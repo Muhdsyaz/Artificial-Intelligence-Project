{
  "nbformat": 4,
  "nbformat_minor": 0,
  "metadata": {
    "colab": {
      "name": "ETH.ipynb",
      "provenance": [],
      "collapsed_sections": [],
      "include_colab_link": true
    },
    "kernelspec": {
      "name": "python3",
      "display_name": "Python 3"
    },
    "language_info": {
      "name": "python"
    }
  },
  "cells": [
    {
      "cell_type": "markdown",
      "metadata": {
        "id": "view-in-github",
        "colab_type": "text"
      },
      "source": [
        "<a href=\"https://colab.research.google.com/github/azriawi/Artificial-Intelligence-Project/blob/main/ETH.ipynb\" target=\"_parent\"><img src=\"https://colab.research.google.com/assets/colab-badge.svg\" alt=\"Open In Colab\"/></a>"
      ]
    },
    {
      "cell_type": "code",
      "metadata": {
        "id": "doa7CtOxIRvU"
      },
      "source": [
        "#Install the dependencies\n",
        "import numpy as np\n",
        "import pandas as pd\n",
        "from sklearn.tree import DecisionTreeRegressor\n",
        "from sklearn.linear_model import LinearRegression\n",
        "from sklearn.model_selection import train_test_split\n",
        "import matplotlib.pyplot as plt\n",
        "plt.style.use('bmh')"
      ],
      "execution_count": null,
      "outputs": []
    },
    {
      "cell_type": "code",
      "metadata": {
        "colab": {
          "resources": {
            "http://localhost:8080/nbextensions/google.colab/files.js": {
              "data": "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",
              "ok": true,
              "headers": [
                [
                  "content-type",
                  "application/javascript"
                ]
              ],
              "status": 200,
              "status_text": ""
            }
          },
          "base_uri": "https://localhost:8080/",
          "height": 72
        },
        "id": "sjL1iA2MIhQ7",
        "outputId": "668fbf0d-dbf9-44aa-d881-94a72611d4d9"
      },
      "source": [
        "#Load the data\n",
        "from google.colab import files\n",
        "uploaded = files.upload()"
      ],
      "execution_count": null,
      "outputs": [
        {
          "output_type": "display_data",
          "data": {
            "text/html": [
              "\n",
              "     <input type=\"file\" id=\"files-ab0aa2c8-905d-4d67-8586-53dd5a20f17b\" name=\"files[]\" multiple disabled\n",
              "        style=\"border:none\" />\n",
              "     <output id=\"result-ab0aa2c8-905d-4d67-8586-53dd5a20f17b\">\n",
              "      Upload widget is only available when the cell has been executed in the\n",
              "      current browser session. Please rerun this cell to enable.\n",
              "      </output>\n",
              "      <script src=\"/nbextensions/google.colab/files.js\"></script> "
            ],
            "text/plain": [
              "<IPython.core.display.HTML object>"
            ]
          },
          "metadata": {
            "tags": []
          }
        },
        {
          "output_type": "stream",
          "text": [
            "Saving ETH-USD.csv to ETH-USD.csv\n"
          ],
          "name": "stdout"
        }
      ]
    },
    {
      "cell_type": "code",
      "metadata": {
        "id": "QmKAWp23KWLy"
      },
      "source": [
        ""
      ],
      "execution_count": null,
      "outputs": []
    },
    {
      "cell_type": "code",
      "metadata": {
        "colab": {
          "base_uri": "https://localhost:8080/",
          "height": 232
        },
        "id": "1friBcd5J7WD",
        "outputId": "287c27ca-0254-4627-a856-ddc071bf17e6"
      },
      "source": [
        "#Store the data into a data frame \n",
        "df = pd.read_csv('ETH-USD.csv')\n",
        "df.head(6)"
      ],
      "execution_count": null,
      "outputs": [
        {
          "output_type": "execute_result",
          "data": {
            "text/html": [
              "<div>\n",
              "<style scoped>\n",
              "    .dataframe tbody tr th:only-of-type {\n",
              "        vertical-align: middle;\n",
              "    }\n",
              "\n",
              "    .dataframe tbody tr th {\n",
              "        vertical-align: top;\n",
              "    }\n",
              "\n",
              "    .dataframe thead th {\n",
              "        text-align: right;\n",
              "    }\n",
              "</style>\n",
              "<table border=\"1\" class=\"dataframe\">\n",
              "  <thead>\n",
              "    <tr style=\"text-align: right;\">\n",
              "      <th></th>\n",
              "      <th>Date</th>\n",
              "      <th>Open</th>\n",
              "      <th>High</th>\n",
              "      <th>Low</th>\n",
              "      <th>Close</th>\n",
              "      <th>Adj Close</th>\n",
              "      <th>Volume</th>\n",
              "    </tr>\n",
              "  </thead>\n",
              "  <tbody>\n",
              "    <tr>\n",
              "      <th>0</th>\n",
              "      <td>11/5/2020</td>\n",
              "      <td>188.632187</td>\n",
              "      <td>191.362335</td>\n",
              "      <td>180.718338</td>\n",
              "      <td>185.912842</td>\n",
              "      <td>185.912842</td>\n",
              "      <td>20054601647</td>\n",
              "    </tr>\n",
              "    <tr>\n",
              "      <th>1</th>\n",
              "      <td>12/5/2020</td>\n",
              "      <td>185.877335</td>\n",
              "      <td>191.601349</td>\n",
              "      <td>185.701797</td>\n",
              "      <td>189.312500</td>\n",
              "      <td>189.312500</td>\n",
              "      <td>15899726284</td>\n",
              "    </tr>\n",
              "    <tr>\n",
              "      <th>2</th>\n",
              "      <td>13/5/2020</td>\n",
              "      <td>189.374100</td>\n",
              "      <td>200.197327</td>\n",
              "      <td>189.127701</td>\n",
              "      <td>199.193283</td>\n",
              "      <td>199.193283</td>\n",
              "      <td>17054662289</td>\n",
              "    </tr>\n",
              "    <tr>\n",
              "      <th>3</th>\n",
              "      <td>14/5/2020</td>\n",
              "      <td>198.891510</td>\n",
              "      <td>204.117599</td>\n",
              "      <td>196.868820</td>\n",
              "      <td>202.949097</td>\n",
              "      <td>202.949097</td>\n",
              "      <td>20150524861</td>\n",
              "    </tr>\n",
              "    <tr>\n",
              "      <th>4</th>\n",
              "      <td>15/5/2020</td>\n",
              "      <td>202.955399</td>\n",
              "      <td>203.566391</td>\n",
              "      <td>193.755676</td>\n",
              "      <td>195.622665</td>\n",
              "      <td>195.622665</td>\n",
              "      <td>16602342092</td>\n",
              "    </tr>\n",
              "    <tr>\n",
              "      <th>5</th>\n",
              "      <td>16/5/2020</td>\n",
              "      <td>195.613388</td>\n",
              "      <td>202.771194</td>\n",
              "      <td>194.501587</td>\n",
              "      <td>200.677124</td>\n",
              "      <td>200.677124</td>\n",
              "      <td>15379081645</td>\n",
              "    </tr>\n",
              "  </tbody>\n",
              "</table>\n",
              "</div>"
            ],
            "text/plain": [
              "        Date        Open        High  ...       Close   Adj Close       Volume\n",
              "0  11/5/2020  188.632187  191.362335  ...  185.912842  185.912842  20054601647\n",
              "1  12/5/2020  185.877335  191.601349  ...  189.312500  189.312500  15899726284\n",
              "2  13/5/2020  189.374100  200.197327  ...  199.193283  199.193283  17054662289\n",
              "3  14/5/2020  198.891510  204.117599  ...  202.949097  202.949097  20150524861\n",
              "4  15/5/2020  202.955399  203.566391  ...  195.622665  195.622665  16602342092\n",
              "5  16/5/2020  195.613388  202.771194  ...  200.677124  200.677124  15379081645\n",
              "\n",
              "[6 rows x 7 columns]"
            ]
          },
          "metadata": {
            "tags": []
          },
          "execution_count": 3
        }
      ]
    },
    {
      "cell_type": "code",
      "metadata": {
        "colab": {
          "base_uri": "https://localhost:8080/"
        },
        "id": "eUOzKDaKKPnj",
        "outputId": "3a209a09-687d-4537-ff06-cf5f27f5e741"
      },
      "source": [
        "#Get the number of trading days\n",
        "df.shape"
      ],
      "execution_count": null,
      "outputs": [
        {
          "output_type": "execute_result",
          "data": {
            "text/plain": [
              "(366, 7)"
            ]
          },
          "metadata": {
            "tags": []
          },
          "execution_count": 4
        }
      ]
    },
    {
      "cell_type": "code",
      "metadata": {
        "colab": {
          "base_uri": "https://localhost:8080/",
          "height": 513
        },
        "id": "rDkLz6LbKXRS",
        "outputId": "d34fe4b7-9676-45f1-ba20-a3044975304f"
      },
      "source": [
        "#Visualize the close price data\n",
        "plt.figure(figsize=(16,8))\n",
        "plt.title('ETH (Ethereum)')\n",
        "plt.xlabel('Days')\n",
        "plt.ylabel('Price USD($)')\n",
        "plt.plot(df['Close'])\n",
        "plt.show()"
      ],
      "execution_count": null,
      "outputs": [
        {
          "output_type": "display_data",
          "data": {
            "image/png": "[encoded data removed]",
            "text/plain": [
              "<Figure size 1152x576 with 1 Axes>"
            ]
          },
          "metadata": {
            "tags": [],
            "needs_background": "light"
          }
        }
      ]
    },
    {
      "cell_type": "code",
      "metadata": {
        "colab": {
          "base_uri": "https://localhost:8080/",
          "height": 171
        },
        "id": "BkfMz92kK8jz",
        "outputId": "b40acc31-2d06-443d-9bef-343316cacbe8"
      },
      "source": [
        "#Get the close price\n",
        "df = df[['Close']]\n",
        "df.head(4)"
      ],
      "execution_count": null,
      "outputs": [
        {
          "output_type": "execute_result",
          "data": {
            "text/html": [
              "<div>\n",
              "<style scoped>\n",
              "    .dataframe tbody tr th:only-of-type {\n",
              "        vertical-align: middle;\n",
              "    }\n",
              "\n",
              "    .dataframe tbody tr th {\n",
              "        vertical-align: top;\n",
              "    }\n",
              "\n",
              "    .dataframe thead th {\n",
              "        text-align: right;\n",
              "    }\n",
              "</style>\n",
              "<table border=\"1\" class=\"dataframe\">\n",
              "  <thead>\n",
              "    <tr style=\"text-align: right;\">\n",
              "      <th></th>\n",
              "      <th>Close</th>\n",
              "    </tr>\n",
              "  </thead>\n",
              "  <tbody>\n",
              "    <tr>\n",
              "      <th>0</th>\n",
              "      <td>185.912842</td>\n",
              "    </tr>\n",
              "    <tr>\n",
              "      <th>1</th>\n",
              "      <td>189.312500</td>\n",
              "    </tr>\n",
              "    <tr>\n",
              "      <th>2</th>\n",
              "      <td>199.193283</td>\n",
              "    </tr>\n",
              "    <tr>\n",
              "      <th>3</th>\n",
              "      <td>202.949097</td>\n",
              "    </tr>\n",
              "  </tbody>\n",
              "</table>\n",
              "</div>"
            ],
            "text/plain": [
              "        Close\n",
              "0  185.912842\n",
              "1  189.312500\n",
              "2  199.193283\n",
              "3  202.949097"
            ]
          },
          "metadata": {
            "tags": []
          },
          "execution_count": 6
        }
      ]
    },
    {
      "cell_type": "code",
      "metadata": {
        "colab": {
          "base_uri": "https://localhost:8080/",
          "height": 171
        },
        "id": "DT2zOvvQLH27",
        "outputId": "b4dd11cd-4c63-4a01-bec9-2bae396b5c34"
      },
      "source": [
        "#Create a variable to predict 'x' days out into the future\n",
        "future_days = 25\n",
        "#Create a new column (target) shifted 'x' units/days up\n",
        "df['Prediction'] = df[['Close']].shift(-future_days)\n",
        "df.tail(4)"
      ],
      "execution_count": null,
      "outputs": [
        {
          "output_type": "execute_result",
          "data": {
            "text/html": [
              "<div>\n",
              "<style scoped>\n",
              "    .dataframe tbody tr th:only-of-type {\n",
              "        vertical-align: middle;\n",
              "    }\n",
              "\n",
              "    .dataframe tbody tr th {\n",
              "        vertical-align: top;\n",
              "    }\n",
              "\n",
              "    .dataframe thead th {\n",
              "        text-align: right;\n",
              "    }\n",
              "</style>\n",
              "<table border=\"1\" class=\"dataframe\">\n",
              "  <thead>\n",
              "    <tr style=\"text-align: right;\">\n",
              "      <th></th>\n",
              "      <th>Close</th>\n",
              "      <th>Prediction</th>\n",
              "    </tr>\n",
              "  </thead>\n",
              "  <tbody>\n",
              "    <tr>\n",
              "      <th>362</th>\n",
              "      <td>3902.647705</td>\n",
              "      <td>NaN</td>\n",
              "    </tr>\n",
              "    <tr>\n",
              "      <th>363</th>\n",
              "      <td>3928.844727</td>\n",
              "      <td>NaN</td>\n",
              "    </tr>\n",
              "    <tr>\n",
              "      <th>364</th>\n",
              "      <td>3952.293945</td>\n",
              "      <td>NaN</td>\n",
              "    </tr>\n",
              "    <tr>\n",
              "      <th>365</th>\n",
              "      <td>3951.769043</td>\n",
              "      <td>NaN</td>\n",
              "    </tr>\n",
              "  </tbody>\n",
              "</table>\n",
              "</div>"
            ],
            "text/plain": [
              "           Close  Prediction\n",
              "362  3902.647705         NaN\n",
              "363  3928.844727         NaN\n",
              "364  3952.293945         NaN\n",
              "365  3951.769043         NaN"
            ]
          },
          "metadata": {
            "tags": []
          },
          "execution_count": 7
        }
      ]
    },
    {
      "cell_type": "code",
      "metadata": {
        "colab": {
          "base_uri": "https://localhost:8080/"
        },
        "id": "UmPTs7SnLfg7",
        "outputId": "2864c4c4-a473-4e3c-d076-7d209747cff4"
      },
      "source": [
        "#Create the feature data set (X) and convert it to numpy array and remove the last 'x' rows/days\n",
        "X = np.array(df.drop(['Prediction'], 1))[:-future_days]\n",
        "print(X)"
      ],
      "execution_count": null,
      "outputs": [
        {
          "output_type": "stream",
          "text": [
            "[[ 185.912842]\n",
            " [ 189.3125  ]\n",
            " [ 199.193283]\n",
            " [ 202.949097]\n",
            " [ 195.622665]\n",
            " [ 200.677124]\n",
            " [ 207.158691]\n",
            " [ 214.525055]\n",
            " [ 213.451111]\n",
            " [ 210.096741]\n",
            " [ 199.883606]\n",
            " [ 207.169189]\n",
            " [ 208.694397]\n",
            " [ 202.370346]\n",
            " [ 205.319748]\n",
            " [ 201.902313]\n",
            " [ 208.863434]\n",
            " [ 219.840424]\n",
            " [ 220.675125]\n",
            " [ 242.345596]\n",
            " [ 230.975708]\n",
            " [ 246.99176 ]\n",
            " [ 237.219055]\n",
            " [ 244.179321]\n",
            " [ 244.426392]\n",
            " [ 241.221985]\n",
            " [ 241.93132 ]\n",
            " [ 245.167252]\n",
            " [ 246.309906]\n",
            " [ 244.911453]\n",
            " [ 247.444946]\n",
            " [ 231.702667]\n",
            " [ 237.49321 ]\n",
            " [ 238.908844]\n",
            " [ 234.1147  ]\n",
            " [ 229.928909]\n",
            " [ 234.416168]\n",
            " [ 233.028275]\n",
            " [ 232.101166]\n",
            " [ 227.13829 ]\n",
            " [ 229.274261]\n",
            " [ 228.989822]\n",
            " [ 242.533188]\n",
            " [ 244.142151]\n",
            " [ 235.772461]\n",
            " [ 232.944489]\n",
            " [ 229.668045]\n",
            " [ 222.959793]\n",
            " [ 225.347168]\n",
            " [ 228.19487 ]\n",
            " [ 226.315002]\n",
            " [ 231.113419]\n",
            " [ 229.392197]\n",
            " [ 225.38707 ]\n",
            " [ 229.074112]\n",
            " [ 227.664597]\n",
            " [ 241.510223]\n",
            " [ 239.075531]\n",
            " [ 246.670013]\n",
            " [ 243.015961]\n",
            " [ 240.984985]\n",
            " [ 239.458176]\n",
            " [ 242.131699]\n",
            " [ 239.604584]\n",
            " [ 240.211487]\n",
            " [ 238.423523]\n",
            " [ 233.640884]\n",
            " [ 232.773087]\n",
            " [ 235.48381 ]\n",
            " [ 238.487518]\n",
            " [ 236.153168]\n",
            " [ 245.016724]\n",
            " [ 262.190643]\n",
            " [ 274.689056]\n",
            " [ 279.215424]\n",
            " [ 304.056763]\n",
            " [ 309.643616]\n",
            " [ 321.514099]\n",
            " [ 316.657257]\n",
            " [ 318.190887]\n",
            " [ 334.586639]\n",
            " [ 345.554657]\n",
            " [ 385.199707]\n",
            " [ 370.671722]\n",
            " [ 386.295166]\n",
            " [ 389.875488]\n",
            " [ 401.590576]\n",
            " [ 394.961945]\n",
            " [ 379.512848]\n",
            " [ 393.987366]\n",
            " [ 391.120453]\n",
            " [ 395.887573]\n",
            " [ 380.384064]\n",
            " [ 391.02417 ]\n",
            " [ 428.741791]\n",
            " [ 437.397827]\n",
            " [ 433.354919]\n",
            " [ 433.786621]\n",
            " [ 429.53125 ]\n",
            " [ 423.669312]\n",
            " [ 406.463776]\n",
            " [ 416.439789]\n",
            " [ 389.126343]\n",
            " [ 395.835144]\n",
            " [ 391.384491]\n",
            " [ 408.144196]\n",
            " [ 384.001038]\n",
            " [ 386.466125]\n",
            " [ 382.632629]\n",
            " [ 395.874664]\n",
            " [ 399.921478]\n",
            " [ 428.395721]\n",
            " [ 435.079742]\n",
            " [ 477.05191 ]\n",
            " [ 440.040497]\n",
            " [ 385.671936]\n",
            " [ 388.24115 ]\n",
            " [ 335.260071]\n",
            " [ 353.362274]\n",
            " [ 352.673492]\n",
            " [ 337.602112]\n",
            " [ 351.110016]\n",
            " [ 368.101898]\n",
            " [ 374.695587]\n",
            " [ 387.183105]\n",
            " [ 365.570007]\n",
            " [ 377.26886 ]\n",
            " [ 364.839203]\n",
            " [ 365.812286]\n",
            " [ 389.019226]\n",
            " [ 384.364532]\n",
            " [ 385.544373]\n",
            " [ 371.052826]\n",
            " [ 341.786072]\n",
            " [ 344.503174]\n",
            " [ 320.585541]\n",
            " [ 349.356659]\n",
            " [ 352.161865]\n",
            " [ 354.965271]\n",
            " [ 357.321686]\n",
            " [ 354.9505  ]\n",
            " [ 359.963409]\n",
            " [ 360.022369]\n",
            " [ 353.231293]\n",
            " [ 346.532654]\n",
            " [ 347.321594]\n",
            " [ 353.121918]\n",
            " [ 354.2771  ]\n",
            " [ 341.021149]\n",
            " [ 342.119781]\n",
            " [ 351.455658]\n",
            " [ 342.119781]\n",
            " [ 370.96759 ]\n",
            " [ 375.142059]\n",
            " [ 376.142059]\n",
            " [ 377.441833]\n",
            " [ 379.484039]\n",
            " [ 377.441833]\n",
            " [ 366.229004]\n",
            " [ 368.855927]\n",
            " [ 378.213684]\n",
            " [ 379.935608]\n",
            " [ 369.136902]\n",
            " [ 392.189972]\n",
            " [ 413.77298 ]\n",
            " [ 409.766693]\n",
            " [ 412.457611]\n",
            " [ 406.217773]\n",
            " [ 393.888306]\n",
            " [ 403.99704 ]\n",
            " [ 388.650757]\n",
            " [ 386.730103]\n",
            " [ 382.819977]\n",
            " [ 386.590332]\n",
            " [ 396.358185]\n",
            " [ 383.156738]\n",
            " [ 387.602173]\n",
            " [ 402.141998]\n",
            " [ 414.067352]\n",
            " [ 454.719299]\n",
            " [ 435.713135]\n",
            " [ 453.554779]\n",
            " [ 444.163055]\n",
            " [ 449.679626]\n",
            " [ 462.960541]\n",
            " [ 461.00528 ]\n",
            " [ 474.626434]\n",
            " [ 460.149841]\n",
            " [ 447.559082]\n",
            " [ 459.940308]\n",
            " [ 480.360077]\n",
            " [ 479.48407 ]\n",
            " [ 471.630432]\n",
            " [ 509.744568]\n",
            " [ 549.486633]\n",
            " [ 558.068115]\n",
            " [ 608.454041]\n",
            " [ 603.897766]\n",
            " [ 570.686646]\n",
            " [ 518.801147]\n",
            " [ 517.493713]\n",
            " [ 538.229797]\n",
            " [ 575.758057]\n",
            " [ 614.842529]\n",
            " [ 587.324158]\n",
            " [ 598.352356]\n",
            " [ 616.70874 ]\n",
            " [ 569.354187]\n",
            " [ 596.595459]\n",
            " [ 601.908997]\n",
            " [ 591.843384]\n",
            " [ 554.827759]\n",
            " [ 573.479126]\n",
            " [ 559.678528]\n",
            " [ 545.797363]\n",
            " [ 568.567322]\n",
            " [ 589.663208]\n",
            " [ 586.011169]\n",
            " [ 589.355591]\n",
            " [ 636.181824]\n",
            " [ 642.868958]\n",
            " [ 654.811951]\n",
            " [ 659.297913]\n",
            " [ 638.290833]\n",
            " [ 609.817871]\n",
            " [ 634.854187]\n",
            " [ 583.7146  ]\n",
            " [ 611.607178]\n",
            " [ 626.410706]\n",
            " [ 635.835815]\n",
            " [ 682.642334]\n",
            " [ 730.397339]\n",
            " [ 731.520142]\n",
            " [ 751.618958]\n",
            " [ 737.803406]\n",
            " [ 730.367554]\n",
            " [ 774.534973]\n",
            " [ 975.50769 ]\n",
            " [1040.233032]\n",
            " [1100.006104]\n",
            " [1207.112183]\n",
            " [1225.678101]\n",
            " [1224.197144]\n",
            " [1281.077271]\n",
            " [1262.246704]\n",
            " [1090.145386]\n",
            " [1043.43457 ]\n",
            " [1130.73938 ]\n",
            " [1218.453003]\n",
            " [1171.834595]\n",
            " [1233.537598]\n",
            " [1230.172241]\n",
            " [1257.279541]\n",
            " [1377.295898]\n",
            " [1382.274048]\n",
            " [1121.570923]\n",
            " [1236.512207]\n",
            " [1230.990601]\n",
            " [1391.609375]\n",
            " [1324.414795]\n",
            " [1357.058105]\n",
            " [1253.187134]\n",
            " [1298.101807]\n",
            " [1382.522827]\n",
            " [1376.115479]\n",
            " [1314.986206]\n",
            " [1369.040527]\n",
            " [1515.193726]\n",
            " [1660.909546]\n",
            " [1594.762695]\n",
            " [1718.650879]\n",
            " [1677.846802]\n",
            " [1614.227783]\n",
            " [1746.616821]\n",
            " [1768.035034]\n",
            " [1744.243408]\n",
            " [1783.797974]\n",
            " [1843.532593]\n",
            " [1814.109863]\n",
            " [1805.084106]\n",
            " [1779.791016]\n",
            " [1781.067505]\n",
            " [1848.458252]\n",
            " [1937.449219]\n",
            " [1960.164795]\n",
            " [1919.534058]\n",
            " [1935.601074]\n",
            " [1781.99292 ]\n",
            " [1570.203979]\n",
            " [1626.575684]\n",
            " [1475.703735]\n",
            " [1446.033691]\n",
            " [1459.973145]\n",
            " [1416.04895 ]\n",
            " [1564.707642]\n",
            " [1492.608765]\n",
            " [1575.853149]\n",
            " [1541.914307]\n",
            " [1533.275024]\n",
            " [1654.741577]\n",
            " [1723.153809]\n",
            " [1834.727905]\n",
            " [1868.048828]\n",
            " [1799.16626 ]\n",
            " [1826.194946]\n",
            " [1772.102417]\n",
            " [1924.685425]\n",
            " [1854.564331]\n",
            " [1791.702271]\n",
            " [1806.971802]\n",
            " [1823.449341]\n",
            " [1782.855103]\n",
            " [1817.624146]\n",
            " [1812.634644]\n",
            " [1788.217041]\n",
            " [1691.333984]\n",
            " [1678.650146]\n",
            " [1593.413452]\n",
            " [1595.359253]\n",
            " [1702.842041]\n",
            " [1716.494629]\n",
            " [1691.355957]\n",
            " [1819.684937]\n",
            " [1846.033691]\n",
            " [1918.362061]\n",
            " [1977.276855]\n",
            " [2143.225586]\n",
            " [2028.422485]\n",
            " [2093.122803]\n",
            " [2107.887207]\n",
            " [2118.378906]\n",
            " [1971.077271]\n",
            " [2088.57373 ]\n",
            " [2072.108887]\n",
            " [2135.942139]\n",
            " [2157.656982]\n",
            " [2139.353271]\n",
            " [2299.187744]\n",
            " [2435.10498 ]\n",
            " [2519.116211]\n",
            " [2431.946533]]\n"
          ],
          "name": "stdout"
        }
      ]
    },
    {
      "cell_type": "code",
      "metadata": {
        "colab": {
          "base_uri": "https://localhost:8080/"
        },
        "id": "I397S92KLndb",
        "outputId": "f1e6ee04-718b-4f16-e44b-d84058311ed9"
      },
      "source": [
        "#Create the target data set (y) and convert it to numpy array and get all of the target values except the last 'x' days/rows\n",
        "y = np.array(df['Prediction'][:-future_days])\n",
        "print(y)"
      ],
      "execution_count": null,
      "outputs": [
        {
          "output_type": "stream",
          "text": [
            "[ 241.221985  241.93132   245.167252  246.309906  244.911453  247.444946\n",
            "  231.702667  237.49321   238.908844  234.1147    229.928909  234.416168\n",
            "  233.028275  232.101166  227.13829   229.274261  228.989822  242.533188\n",
            "  244.142151  235.772461  232.944489  229.668045  222.959793  225.347168\n",
            "  228.19487   226.315002  231.113419  229.392197  225.38707   229.074112\n",
            "  227.664597  241.510223  239.075531  246.670013  243.015961  240.984985\n",
            "  239.458176  242.131699  239.604584  240.211487  238.423523  233.640884\n",
            "  232.773087  235.48381   238.487518  236.153168  245.016724  262.190643\n",
            "  274.689056  279.215424  304.056763  309.643616  321.514099  316.657257\n",
            "  318.190887  334.586639  345.554657  385.199707  370.671722  386.295166\n",
            "  389.875488  401.590576  394.961945  379.512848  393.987366  391.120453\n",
            "  395.887573  380.384064  391.02417   428.741791  437.397827  433.354919\n",
            "  433.786621  429.53125   423.669312  406.463776  416.439789  389.126343\n",
            "  395.835144  391.384491  408.144196  384.001038  386.466125  382.632629\n",
            "  395.874664  399.921478  428.395721  435.079742  477.05191   440.040497\n",
            "  385.671936  388.24115   335.260071  353.362274  352.673492  337.602112\n",
            "  351.110016  368.101898  374.695587  387.183105  365.570007  377.26886\n",
            "  364.839203  365.812286  389.019226  384.364532  385.544373  371.052826\n",
            "  341.786072  344.503174  320.585541  349.356659  352.161865  354.965271\n",
            "  357.321686  354.9505    359.963409  360.022369  353.231293  346.532654\n",
            "  347.321594  353.121918  354.2771    341.021149  342.119781  351.455658\n",
            "  342.119781  370.96759   375.142059  376.142059  377.441833  379.484039\n",
            "  377.441833  366.229004  368.855927  378.213684  379.935608  369.136902\n",
            "  392.189972  413.77298   409.766693  412.457611  406.217773  393.888306\n",
            "  403.99704   388.650757  386.730103  382.819977  386.590332  396.358185\n",
            "  383.156738  387.602173  402.141998  414.067352  454.719299  435.713135\n",
            "  453.554779  444.163055  449.679626  462.960541  461.00528   474.626434\n",
            "  460.149841  447.559082  459.940308  480.360077  479.48407   471.630432\n",
            "  509.744568  549.486633  558.068115  608.454041  603.897766  570.686646\n",
            "  518.801147  517.493713  538.229797  575.758057  614.842529  587.324158\n",
            "  598.352356  616.70874   569.354187  596.595459  601.908997  591.843384\n",
            "  554.827759  573.479126  559.678528  545.797363  568.567322  589.663208\n",
            "  586.011169  589.355591  636.181824  642.868958  654.811951  659.297913\n",
            "  638.290833  609.817871  634.854187  583.7146    611.607178  626.410706\n",
            "  635.835815  682.642334  730.397339  731.520142  751.618958  737.803406\n",
            "  730.367554  774.534973  975.50769  1040.233032 1100.006104 1207.112183\n",
            " 1225.678101 1224.197144 1281.077271 1262.246704 1090.145386 1043.43457\n",
            " 1130.73938  1218.453003 1171.834595 1233.537598 1230.172241 1257.279541\n",
            " 1377.295898 1382.274048 1121.570923 1236.512207 1230.990601 1391.609375\n",
            " 1324.414795 1357.058105 1253.187134 1298.101807 1382.522827 1376.115479\n",
            " 1314.986206 1369.040527 1515.193726 1660.909546 1594.762695 1718.650879\n",
            " 1677.846802 1614.227783 1746.616821 1768.035034 1744.243408 1783.797974\n",
            " 1843.532593 1814.109863 1805.084106 1779.791016 1781.067505 1848.458252\n",
            " 1937.449219 1960.164795 1919.534058 1935.601074 1781.99292  1570.203979\n",
            " 1626.575684 1475.703735 1446.033691 1459.973145 1416.04895  1564.707642\n",
            " 1492.608765 1575.853149 1541.914307 1533.275024 1654.741577 1723.153809\n",
            " 1834.727905 1868.048828 1799.16626  1826.194946 1772.102417 1924.685425\n",
            " 1854.564331 1791.702271 1806.971802 1823.449341 1782.855103 1817.624146\n",
            " 1812.634644 1788.217041 1691.333984 1678.650146 1593.413452 1595.359253\n",
            " 1702.842041 1716.494629 1691.355957 1819.684937 1846.033691 1918.362061\n",
            " 1977.276855 2143.225586 2028.422485 2093.122803 2107.887207 2118.378906\n",
            " 1971.077271 2088.57373  2072.108887 2135.942139 2157.656982 2139.353271\n",
            " 2299.187744 2435.10498  2519.116211 2431.946533 2344.89502  2237.136963\n",
            " 2166.188721 2330.210938 2364.751709 2403.535156 2363.586182 2211.625732\n",
            " 2316.05957  2534.481689 2662.865234 2746.380127 2756.876953 2773.207031\n",
            " 2945.892822 2952.056152 3431.086182 3253.629395 3522.783203 3490.880371\n",
            " 3484.729004 3902.647705 3928.844727 3952.293945 3951.769043]\n"
          ],
          "name": "stdout"
        }
      ]
    },
    {
      "cell_type": "code",
      "metadata": {
        "id": "iwmA56d4LwOT"
      },
      "source": [
        "#Split the data into 75% training and 25% testing \n",
        "x_train, x_test, y_train,y_test= train_test_split(X,y,test_size = 0.25)"
      ],
      "execution_count": null,
      "outputs": []
    },
    {
      "cell_type": "code",
      "metadata": {
        "id": "Fger9WjMLxla"
      },
      "source": [
        "#Create the models\n",
        "#Create the decision tree regressor model\n",
        "tree = DecisionTreeRegressor().fit(x_train,y_train)\n",
        "#Create the linear regression model\n",
        "lr = LinearRegression().fit(x_train, y_train)"
      ],
      "execution_count": null,
      "outputs": []
    },
    {
      "cell_type": "code",
      "metadata": {
        "colab": {
          "base_uri": "https://localhost:8080/"
        },
        "id": "pkj81zrtL640",
        "outputId": "33b27530-a5ab-4a7d-ab22-2fa42dce183c"
      },
      "source": [
        "#Get the last 'x' rows of the feature dataset\n",
        "x_future = df.drop(['Prediction'], 1)[-future_days:]\n",
        "x_future = x_future.tail(future_days)\n",
        "x_future = np.array(x_future)\n",
        "x_future "
      ],
      "execution_count": null,
      "outputs": [
        {
          "output_type": "execute_result",
          "data": {
            "text/plain": [
              "array([[2344.89502 ],\n",
              "       [2237.136963],\n",
              "       [2166.188721],\n",
              "       [2330.210938],\n",
              "       [2364.751709],\n",
              "       [2403.535156],\n",
              "       [2363.586182],\n",
              "       [2211.625732],\n",
              "       [2316.05957 ],\n",
              "       [2534.481689],\n",
              "       [2662.865234],\n",
              "       [2746.380127],\n",
              "       [2756.876953],\n",
              "       [2773.207031],\n",
              "       [2945.892822],\n",
              "       [2952.056152],\n",
              "       [3431.086182],\n",
              "       [3253.629395],\n",
              "       [3522.783203],\n",
              "       [3490.880371],\n",
              "       [3484.729004],\n",
              "       [3902.647705],\n",
              "       [3928.844727],\n",
              "       [3952.293945],\n",
              "       [3951.769043]])"
            ]
          },
          "metadata": {
            "tags": []
          },
          "execution_count": 12
        }
      ]
    },
    {
      "cell_type": "code",
      "metadata": {
        "colab": {
          "base_uri": "https://localhost:8080/"
        },
        "id": "dDDQSmPXMrRb",
        "outputId": "03f547aa-9572-4f50-c2d0-36c678307ef5"
      },
      "source": [
        "#Show model tree prediction\n",
        "tree_prediction = tree.predict(x_future)\n",
        "print(tree_prediction)\n",
        "print()\n",
        "#Show the model linear regression prediction\n",
        "lr_prediction = lr.predict(x_future)\n",
        "print(lr_prediction)"
      ],
      "execution_count": null,
      "outputs": [
        {
          "output_type": "stream",
          "text": [
            "[3902.647705 3902.647705 3490.880371 3902.647705 3902.647705 3951.769043\n",
            " 3902.647705 3490.880371 3902.647705 3952.293945 3952.293945 3952.293945\n",
            " 3952.293945 3952.293945 3952.293945 3952.293945 3952.293945 3952.293945\n",
            " 3952.293945 3952.293945 3952.293945 3952.293945 3952.293945 3952.293945\n",
            " 3952.293945]\n",
            "\n",
            "[2982.9295834  2844.79158681 2753.8410975  2964.1056576  3008.3844154\n",
            " 3058.10197544 3006.8902945  2812.08804297 2945.96463243 3225.96591279\n",
            " 3390.54428581 3497.60430828 3511.06047624 3531.99444927 3753.36508152\n",
            " 3761.2660226  4375.34770235 4147.86100001 4492.89661819 4451.99950645\n",
            " 4444.11390108 4979.85529898 5013.43797703 5043.49817008 5042.82528387]\n"
          ],
          "name": "stdout"
        }
      ]
    },
    {
      "cell_type": "code",
      "metadata": {
        "colab": {
          "base_uri": "https://localhost:8080/",
          "height": 615
        },
        "id": "fxDmSPv8NaAy",
        "outputId": "eabbf503-b679-4042-9322-ee288287bf7f"
      },
      "source": [
        "#Visualize the data\n",
        "prediction = tree_prediction\n",
        "\n",
        "valid = df[X.shape[0]:]\n",
        "valid['Prediction'] = prediction\n",
        "plt.figure(figsize=(16,8))\n",
        "plt.title('ETH (Ethereum)')\n",
        "plt.xlabel('Days')\n",
        "plt.ylabel('Price USD ($)')\n",
        "plt.plot(df['Close'])\n",
        "plt.plot(valid[['Close', 'Prediction']])\n",
        "plt.legend(['Origin', 'Valid', 'Prediction'])\n",
        "plt.show()"
      ],
      "execution_count": null,
      "outputs": [
        {
          "output_type": "stream",
          "text": [
            "/usr/local/lib/python3.7/dist-packages/ipykernel_launcher.py:5: SettingWithCopyWarning: \n",
            "A value is trying to be set on a copy of a slice from a DataFrame.\n",
            "Try using .loc[row_indexer,col_indexer] = value instead\n",
            "\n",
            "See the caveats in the documentation: https://pandas.pydata.org/pandas-docs/stable/user_guide/indexing.html#returning-a-view-versus-a-copy\n",
            "  \"\"\"\n"
          ],
          "name": "stderr"
        },
        {
          "output_type": "display_data",
          "data": {
            "image/png": "[encoded data removed]",
            "text/plain": [
              "<Figure size 1152x576 with 1 Axes>"
            ]
          },
          "metadata": {
            "tags": [],
            "needs_background": "light"
          }
        }
      ]
    },
    {
      "cell_type": "code",
      "metadata": {
        "colab": {
          "base_uri": "https://localhost:8080/",
          "height": 615
        },
        "id": "8wkEpsRxcdVt",
        "outputId": "acb07ba8-70e7-4b22-baad-5e3e2ad3d6c6"
      },
      "source": [
        "#Visualize the data\n",
        "prediction = lr_prediction\n",
        "\n",
        "valid = df[X.shape[0]:]\n",
        "valid['Prediction'] = prediction\n",
        "plt.figure(figsize=(16,8))\n",
        "plt.title('ETH (Ethereum)')\n",
        "plt.xlabel('Days')\n",
        "plt.ylabel('Price USD ($)')\n",
        "plt.plot(df['Close'])\n",
        "plt.plot(valid[['Close', 'Prediction']])\n",
        "plt.legend(['Origin', 'Valid', 'Prediction'])\n",
        "plt.show()"
      ],
      "execution_count": null,
      "outputs": [
        {
          "output_type": "stream",
          "text": [
            "/usr/local/lib/python3.7/dist-packages/ipykernel_launcher.py:5: SettingWithCopyWarning: \n",
            "A value is trying to be set on a copy of a slice from a DataFrame.\n",
            "Try using .loc[row_indexer,col_indexer] = value instead\n",
            "\n",
            "See the caveats in the documentation: https://pandas.pydata.org/pandas-docs/stable/user_guide/indexing.html#returning-a-view-versus-a-copy\n",
            "  \"\"\"\n"
          ],
          "name": "stderr"
        },
        {
          "output_type": "display_data",
          "data": {
            "image/png": "[encoded data removed]",
            "text/plain": [
              "<Figure size 1152x576 with 1 Axes>"
            ]
          },
          "metadata": {
            "tags": [],
            "needs_background": "light"
          }
        }
      ]
    }
  ]
}