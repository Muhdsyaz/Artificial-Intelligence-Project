{
  "nbformat": 4,
  "nbformat_minor": 0,
  "metadata": {
    "colab": {
      "name": "XRP.ipynb",
      "provenance": [],
      "include_colab_link": true
    },
    "kernelspec": {
      "name": "python3",
      "display_name": "Python 3"
    },
    "language_info": {
      "name": "python"
    }
  },
  "cells": [
    {
      "cell_type": "markdown",
      "metadata": {
        "id": "view-in-github",
        "colab_type": "text"
      },
      "source": [
        "<a href=\"https://colab.research.google.com/github/azriawi/Artificial-Intelligence-Project/blob/main/XRP.ipynb\" target=\"_parent\"><img src=\"https://colab.research.google.com/assets/colab-badge.svg\" alt=\"Open In Colab\"/></a>"
      ]
    },
    {
      "cell_type": "code",
      "metadata": {
        "id": "doa7CtOxIRvU"
      },
      "source": [
        "#Install the dependencies\n",
        "import numpy as np\n",
        "import pandas as pd\n",
        "from sklearn.tree import DecisionTreeRegressor\n",
        "from sklearn.linear_model import LinearRegression\n",
        "from sklearn.model_selection import train_test_split\n",
        "import matplotlib.pyplot as plt\n",
        "plt.style.use('bmh')"
      ],
      "execution_count": null,
      "outputs": []
    },
    {
      "cell_type": "code",
      "metadata": {
        "colab": {
          "resources": {
            "http://localhost:8080/nbextensions/google.colab/files.js": {
              "data": "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",
              "ok": true,
              "headers": [
                [
                  "content-type",
                  "application/javascript"
                ]
              ],
              "status": 200,
              "status_text": ""
            }
          },
          "base_uri": "https://localhost:8080/",
          "height": 73
        },
        "id": "sjL1iA2MIhQ7",
        "outputId": "ff4e4dad-dbd8-4ee2-f54e-a3b0c05a9ae8"
      },
      "source": [
        "#Load the data\n",
        "from google.colab import files\n",
        "uploaded = files.upload()"
      ],
      "execution_count": null,
      "outputs": [
        {
          "output_type": "display_data",
          "data": {
            "text/html": [
              "\n",
              "     <input type=\"file\" id=\"files-95ad8eb8-3184-47e3-8716-de7c3f30e303\" name=\"files[]\" multiple disabled\n",
              "        style=\"border:none\" />\n",
              "     <output id=\"result-95ad8eb8-3184-47e3-8716-de7c3f30e303\">\n",
              "      Upload widget is only available when the cell has been executed in the\n",
              "      current browser session. Please rerun this cell to enable.\n",
              "      </output>\n",
              "      <script src=\"/nbextensions/google.colab/files.js\"></script> "
            ],
            "text/plain": [
              "<IPython.core.display.HTML object>"
            ]
          },
          "metadata": {
            "tags": []
          }
        },
        {
          "output_type": "stream",
          "text": [
            "Saving XRP-USD.csv to XRP-USD.csv\n"
          ],
          "name": "stdout"
        }
      ]
    },
    {
      "cell_type": "code",
      "metadata": {
        "id": "QmKAWp23KWLy"
      },
      "source": [
        ""
      ],
      "execution_count": null,
      "outputs": []
    },
    {
      "cell_type": "code",
      "metadata": {
        "colab": {
          "base_uri": "https://localhost:8080/",
          "height": 227
        },
        "id": "1friBcd5J7WD",
        "outputId": "473405c5-e4d0-4526-b5fc-4d0762b9fb8e"
      },
      "source": [
        "#Store the data into a data frame \n",
        "df = pd.read_csv('XRP-USD.csv')\n",
        "df.head(6)"
      ],
      "execution_count": null,
      "outputs": [
        {
          "output_type": "execute_result",
          "data": {
            "text/html": [
              "<div>\n",
              "<style scoped>\n",
              "    .dataframe tbody tr th:only-of-type {\n",
              "        vertical-align: middle;\n",
              "    }\n",
              "\n",
              "    .dataframe tbody tr th {\n",
              "        vertical-align: top;\n",
              "    }\n",
              "\n",
              "    .dataframe thead th {\n",
              "        text-align: right;\n",
              "    }\n",
              "</style>\n",
              "<table border=\"1\" class=\"dataframe\">\n",
              "  <thead>\n",
              "    <tr style=\"text-align: right;\">\n",
              "      <th></th>\n",
              "      <th>Date</th>\n",
              "      <th>Open</th>\n",
              "      <th>High</th>\n",
              "      <th>Low</th>\n",
              "      <th>Close</th>\n",
              "      <th>Adj Close</th>\n",
              "      <th>Volume</th>\n",
              "    </tr>\n",
              "  </thead>\n",
              "  <tbody>\n",
              "    <tr>\n",
              "      <th>0</th>\n",
              "      <td>15/4/2020</td>\n",
              "      <td>0.185360</td>\n",
              "      <td>0.189266</td>\n",
              "      <td>0.181155</td>\n",
              "      <td>0.181270</td>\n",
              "      <td>0.181270</td>\n",
              "      <td>1963736221</td>\n",
              "    </tr>\n",
              "    <tr>\n",
              "      <th>1</th>\n",
              "      <td>16/4/2020</td>\n",
              "      <td>0.181254</td>\n",
              "      <td>0.191235</td>\n",
              "      <td>0.177414</td>\n",
              "      <td>0.190104</td>\n",
              "      <td>0.190104</td>\n",
              "      <td>2610251456</td>\n",
              "    </tr>\n",
              "    <tr>\n",
              "      <th>2</th>\n",
              "      <td>17/4/2020</td>\n",
              "      <td>0.181254</td>\n",
              "      <td>0.191235</td>\n",
              "      <td>0.189820</td>\n",
              "      <td>0.194925</td>\n",
              "      <td>0.190104</td>\n",
              "      <td>1912728846</td>\n",
              "    </tr>\n",
              "    <tr>\n",
              "      <th>3</th>\n",
              "      <td>18/4/2020</td>\n",
              "      <td>0.189911</td>\n",
              "      <td>0.195356</td>\n",
              "      <td>0.189820</td>\n",
              "      <td>0.194925</td>\n",
              "      <td>0.194925</td>\n",
              "      <td>1918245143</td>\n",
              "    </tr>\n",
              "    <tr>\n",
              "      <th>4</th>\n",
              "      <td>19/4/2020</td>\n",
              "      <td>0.195004</td>\n",
              "      <td>0.196344</td>\n",
              "      <td>0.190793</td>\n",
              "      <td>0.190859</td>\n",
              "      <td>0.190859</td>\n",
              "      <td>1904866741</td>\n",
              "    </tr>\n",
              "    <tr>\n",
              "      <th>5</th>\n",
              "      <td>20/4/2020</td>\n",
              "      <td>0.190821</td>\n",
              "      <td>0.194900</td>\n",
              "      <td>0.181831</td>\n",
              "      <td>0.183490</td>\n",
              "      <td>0.183490</td>\n",
              "      <td>2364973860</td>\n",
              "    </tr>\n",
              "  </tbody>\n",
              "</table>\n",
              "</div>"
            ],
            "text/plain": [
              "        Date      Open      High       Low     Close  Adj Close      Volume\n",
              "0  15/4/2020  0.185360  0.189266  0.181155  0.181270   0.181270  1963736221\n",
              "1  16/4/2020  0.181254  0.191235  0.177414  0.190104   0.190104  2610251456\n",
              "2  17/4/2020  0.181254  0.191235  0.189820  0.194925   0.190104  1912728846\n",
              "3  18/4/2020  0.189911  0.195356  0.189820  0.194925   0.194925  1918245143\n",
              "4  19/4/2020  0.195004  0.196344  0.190793  0.190859   0.190859  1904866741\n",
              "5  20/4/2020  0.190821  0.194900  0.181831  0.183490   0.183490  2364973860"
            ]
          },
          "metadata": {
            "tags": []
          },
          "execution_count": 3
        }
      ]
    },
    {
      "cell_type": "code",
      "metadata": {
        "colab": {
          "base_uri": "https://localhost:8080/"
        },
        "id": "eUOzKDaKKPnj",
        "outputId": "00db08da-a72c-447b-f4b3-8284ecada76f"
      },
      "source": [
        "#Get the number of trading days\n",
        "df.shape"
      ],
      "execution_count": null,
      "outputs": [
        {
          "output_type": "execute_result",
          "data": {
            "text/plain": [
              "(366, 7)"
            ]
          },
          "metadata": {
            "tags": []
          },
          "execution_count": 4
        }
      ]
    },
    {
      "cell_type": "code",
      "metadata": {
        "colab": {
          "base_uri": "https://localhost:8080/",
          "height": 513
        },
        "id": "rDkLz6LbKXRS",
        "outputId": "43be8256-5713-4333-f51b-79e69f286ce9"
      },
      "source": [
        "#Visualize the close price data\n",
        "plt.figure(figsize=(16,8))\n",
        "plt.title('XRP (Ripple)')\n",
        "plt.xlabel('Days')\n",
        "plt.ylabel('Price USD($)')\n",
        "plt.plot(df['Close'])\n",
        "plt.show()"
      ],
      "execution_count": null,
      "outputs": [
        {
          "output_type": "display_data",
          "data": {
            "image/png": "[encoded data removed]",
            "text/plain": [
              "<Figure size 1152x576 with 1 Axes>"
            ]
          },
          "metadata": {
            "tags": [],
            "needs_background": "light"
          }
        }
      ]
    },
    {
      "cell_type": "code",
      "metadata": {
        "colab": {
          "base_uri": "https://localhost:8080/",
          "height": 167
        },
        "id": "BkfMz92kK8jz",
        "outputId": "8d8fcaf7-60cb-4e54-8f52-d21e29e2435a"
      },
      "source": [
        "#Get the close price\n",
        "df = df[['Close']]\n",
        "df.head(4)"
      ],
      "execution_count": null,
      "outputs": [
        {
          "output_type": "execute_result",
          "data": {
            "text/html": [
              "<div>\n",
              "<style scoped>\n",
              "    .dataframe tbody tr th:only-of-type {\n",
              "        vertical-align: middle;\n",
              "    }\n",
              "\n",
              "    .dataframe tbody tr th {\n",
              "        vertical-align: top;\n",
              "    }\n",
              "\n",
              "    .dataframe thead th {\n",
              "        text-align: right;\n",
              "    }\n",
              "</style>\n",
              "<table border=\"1\" class=\"dataframe\">\n",
              "  <thead>\n",
              "    <tr style=\"text-align: right;\">\n",
              "      <th></th>\n",
              "      <th>Close</th>\n",
              "    </tr>\n",
              "  </thead>\n",
              "  <tbody>\n",
              "    <tr>\n",
              "      <th>0</th>\n",
              "      <td>0.181270</td>\n",
              "    </tr>\n",
              "    <tr>\n",
              "      <th>1</th>\n",
              "      <td>0.190104</td>\n",
              "    </tr>\n",
              "    <tr>\n",
              "      <th>2</th>\n",
              "      <td>0.194925</td>\n",
              "    </tr>\n",
              "    <tr>\n",
              "      <th>3</th>\n",
              "      <td>0.194925</td>\n",
              "    </tr>\n",
              "  </tbody>\n",
              "</table>\n",
              "</div>"
            ],
            "text/plain": [
              "      Close\n",
              "0  0.181270\n",
              "1  0.190104\n",
              "2  0.194925\n",
              "3  0.194925"
            ]
          },
          "metadata": {
            "tags": []
          },
          "execution_count": 6
        }
      ]
    },
    {
      "cell_type": "code",
      "metadata": {
        "colab": {
          "base_uri": "https://localhost:8080/",
          "height": 167
        },
        "id": "DT2zOvvQLH27",
        "outputId": "ecd6b226-1c57-4f15-f051-d398a4f10d0f"
      },
      "source": [
        "#Create a variable to predict 'x' days out into the future\n",
        "future_days = 25\n",
        "#Create a new column (target) shifted 'x' units/days up\n",
        "df['Prediction'] = df[['Close']].shift(-future_days)\n",
        "df.tail(4)"
      ],
      "execution_count": null,
      "outputs": [
        {
          "output_type": "execute_result",
          "data": {
            "text/html": [
              "<div>\n",
              "<style scoped>\n",
              "    .dataframe tbody tr th:only-of-type {\n",
              "        vertical-align: middle;\n",
              "    }\n",
              "\n",
              "    .dataframe tbody tr th {\n",
              "        vertical-align: top;\n",
              "    }\n",
              "\n",
              "    .dataframe thead th {\n",
              "        text-align: right;\n",
              "    }\n",
              "</style>\n",
              "<table border=\"1\" class=\"dataframe\">\n",
              "  <thead>\n",
              "    <tr style=\"text-align: right;\">\n",
              "      <th></th>\n",
              "      <th>Close</th>\n",
              "      <th>Prediction</th>\n",
              "    </tr>\n",
              "  </thead>\n",
              "  <tbody>\n",
              "    <tr>\n",
              "      <th>362</th>\n",
              "      <td>1.467735</td>\n",
              "      <td>NaN</td>\n",
              "    </tr>\n",
              "    <tr>\n",
              "      <th>363</th>\n",
              "      <td>1.794001</td>\n",
              "      <td>NaN</td>\n",
              "    </tr>\n",
              "    <tr>\n",
              "      <th>364</th>\n",
              "      <td>1.839236</td>\n",
              "      <td>NaN</td>\n",
              "    </tr>\n",
              "    <tr>\n",
              "      <th>365</th>\n",
              "      <td>1.726063</td>\n",
              "      <td>NaN</td>\n",
              "    </tr>\n",
              "  </tbody>\n",
              "</table>\n",
              "</div>"
            ],
            "text/plain": [
              "        Close  Prediction\n",
              "362  1.467735         NaN\n",
              "363  1.794001         NaN\n",
              "364  1.839236         NaN\n",
              "365  1.726063         NaN"
            ]
          },
          "metadata": {
            "tags": []
          },
          "execution_count": 7
        }
      ]
    },
    {
      "cell_type": "code",
      "metadata": {
        "colab": {
          "base_uri": "https://localhost:8080/"
        },
        "id": "UmPTs7SnLfg7",
        "outputId": "41b1a189-d56c-451f-af5c-c03305d18a35"
      },
      "source": [
        "#Create the feature data set (X) and convert it to numpy array and remove the last 'x' rows/days\n",
        "X = np.array(df.drop(['Prediction'], 1))[:-future_days]\n",
        "print(X)"
      ],
      "execution_count": null,
      "outputs": [
        {
          "output_type": "stream",
          "text": [
            "[[0.18127 ]\n",
            " [0.190104]\n",
            " [0.194925]\n",
            " [0.194925]\n",
            " [0.190859]\n",
            " [0.18349 ]\n",
            " [0.184328]\n",
            " [0.18797 ]\n",
            " [0.191711]\n",
            " [0.193665]\n",
            " [0.195054]\n",
            " [0.196805]\n",
            " [0.197978]\n",
            " [0.215484]\n",
            " [0.227432]\n",
            " [0.212761]\n",
            " [0.219248]\n",
            " [0.223914]\n",
            " [0.219414]\n",
            " [0.218963]\n",
            " [0.216463]\n",
            " [0.21521 ]\n",
            " [0.218917]\n",
            " [0.219827]\n",
            " [0.216902]\n",
            " [0.198176]\n",
            " [0.194064]\n",
            " [0.197637]\n",
            " [0.20148 ]\n",
            " [0.203129]\n",
            " [0.198911]\n",
            " [0.200032]\n",
            " [0.201255]\n",
            " [0.205176]\n",
            " [0.204028]\n",
            " [0.201707]\n",
            " [0.195509]\n",
            " [0.200343]\n",
            " [0.198856]\n",
            " [0.195431]\n",
            " [0.197327]\n",
            " [0.193975]\n",
            " [0.197857]\n",
            " [0.200595]\n",
            " [0.198348]\n",
            " [0.20622 ]\n",
            " [0.202906]\n",
            " [0.210249]\n",
            " [0.202764]\n",
            " [0.203663]\n",
            " [0.204982]\n",
            " [0.204092]\n",
            " [0.203142]\n",
            " [0.203449]\n",
            " [0.203771]\n",
            " [0.202013]\n",
            " [0.202938]\n",
            " [0.19018 ]\n",
            " [0.193943]\n",
            " [0.193106]\n",
            " [0.191617]\n",
            " [0.193074]\n",
            " [0.191307]\n",
            " [0.193443]\n",
            " [0.190957]\n",
            " [0.18679 ]\n",
            " [0.1885  ]\n",
            " [0.18561 ]\n",
            " [0.189272]\n",
            " [0.18868 ]\n",
            " [0.184272]\n",
            " [0.18357 ]\n",
            " [0.182671]\n",
            " [0.176851]\n",
            " [0.177692]\n",
            " [0.177959]\n",
            " [0.17587 ]\n",
            " [0.176976]\n",
            " [0.177244]\n",
            " [0.176336]\n",
            " [0.177984]\n",
            " [0.177017]\n",
            " [0.188567]\n",
            " [0.184787]\n",
            " [0.204692]\n",
            " [0.20291 ]\n",
            " [0.198652]\n",
            " [0.201197]\n",
            " [0.200538]\n",
            " [0.198575]\n",
            " [0.198809]\n",
            " [0.197111]\n",
            " [0.194048]\n",
            " [0.194281]\n",
            " [0.199341]\n",
            " [0.199135]\n",
            " [0.195065]\n",
            " [0.198988]\n",
            " [0.203342]\n",
            " [0.207578]\n",
            " [0.204049]\n",
            " [0.214102]\n",
            " [0.214982]\n",
            " [0.223672]\n",
            " [0.230277]\n",
            " [0.243099]\n",
            " [0.244522]\n",
            " [0.258904]\n",
            " [0.289529]\n",
            " [0.287062]\n",
            " [0.30994 ]\n",
            " [0.300493]\n",
            " [0.303311]\n",
            " [0.303584]\n",
            " [0.294664]\n",
            " [0.294022]\n",
            " [0.288653]\n",
            " [0.294659]\n",
            " [0.284449]\n",
            " [0.28493 ]\n",
            " [0.297807]\n",
            " [0.300371]\n",
            " [0.299661]\n",
            " [0.303492]\n",
            " [0.314767]\n",
            " [0.303307]\n",
            " [0.290246]\n",
            " [0.292573]\n",
            " [0.280682]\n",
            " [0.286546]\n",
            " [0.285386]\n",
            " [0.289215]\n",
            " [0.277927]\n",
            " [0.277491]\n",
            " [0.264511]\n",
            " [0.272046]\n",
            " [0.274497]\n",
            " [0.283034]\n",
            " [0.281766]\n",
            " [0.295696]\n",
            " [0.276461]\n",
            " [0.24658 ]\n",
            " [0.255883]\n",
            " [0.237692]\n",
            " [0.240731]\n",
            " [0.242174]\n",
            " [0.236753]\n",
            " [0.239609]\n",
            " [0.24353 ]\n",
            " [0.243292]\n",
            " [0.247814]\n",
            " [0.241801]\n",
            " [0.246327]\n",
            " [0.24385 ]\n",
            " [0.247847]\n",
            " [0.252194]\n",
            " [0.250707]\n",
            " [0.251716]\n",
            " [0.246743]\n",
            " [0.232138]\n",
            " [0.233417]\n",
            " [0.221657]\n",
            " [0.233018]\n",
            " [0.241805]\n",
            " [0.242369]\n",
            " [0.243252]\n",
            " [0.242051]\n",
            " [0.243139]\n",
            " [0.242311]\n",
            " [0.238361]\n",
            " [0.234202]\n",
            " [0.233505]\n",
            " [0.248502]\n",
            " [0.250896]\n",
            " [0.24586 ]\n",
            " [0.249041]\n",
            " [0.251615]\n",
            " [0.249041]\n",
            " [0.25429 ]\n",
            " [0.255719]\n",
            " [0.251615]\n",
            " [0.249041]\n",
            " [0.249448]\n",
            " [0.24594 ]\n",
            " [0.240443]\n",
            " [0.240931]\n",
            " [0.242225]\n",
            " [0.245964]\n",
            " [0.243573]\n",
            " [0.251615]\n",
            " [0.256807]\n",
            " [0.254879]\n",
            " [0.256431]\n",
            " [0.253213]\n",
            " [0.248688]\n",
            " [0.252899]\n",
            " [0.245865]\n",
            " [0.242295]\n",
            " [0.239184]\n",
            " [0.239744]\n",
            " [0.239797]\n",
            " [0.235421]\n",
            " [0.23951 ]\n",
            " [0.237793]\n",
            " [0.245776]\n",
            " [0.258445]\n",
            " [0.249582]\n",
            " [0.253939]\n",
            " [0.250748]\n",
            " [0.253911]\n",
            " [0.256259]\n",
            " [0.254903]\n",
            " [0.265191]\n",
            " [0.268342]\n",
            " [0.269642]\n",
            " [0.28552 ]\n",
            " [0.302408]\n",
            " [0.294222]\n",
            " [0.303766]\n",
            " [0.328068]\n",
            " [0.458344]\n",
            " [0.4437  ]\n",
            " [0.61398 ]\n",
            " [0.692103]\n",
            " [0.635483]\n",
            " [0.533019]\n",
            " [0.559268]\n",
            " [0.625622]\n",
            " [0.606246]\n",
            " [0.664337]\n",
            " [0.612923]\n",
            " [0.629893]\n",
            " [0.631483]\n",
            " [0.557262]\n",
            " [0.584421]\n",
            " [0.619851]\n",
            " [0.608934]\n",
            " [0.558836]\n",
            " [0.58359 ]\n",
            " [0.572954]\n",
            " [0.546483]\n",
            " [0.506401]\n",
            " [0.511464]\n",
            " [0.497712]\n",
            " [0.46971 ]\n",
            " [0.568628]\n",
            " [0.576677]\n",
            " [0.58428 ]\n",
            " [0.579163]\n",
            " [0.556058]\n",
            " [0.516944]\n",
            " [0.448448]\n",
            " [0.258602]\n",
            " [0.337819]\n",
            " [0.318091]\n",
            " [0.294713]\n",
            " [0.283039]\n",
            " [0.247958]\n",
            " [0.220962]\n",
            " [0.211828]\n",
            " [0.219846]\n",
            " [0.237444]\n",
            " [0.221655]\n",
            " [0.225848]\n",
            " [0.236677]\n",
            " [0.22675 ]\n",
            " [0.250895]\n",
            " [0.326002]\n",
            " [0.32323 ]\n",
            " [0.326916]\n",
            " [0.318336]\n",
            " [0.288905]\n",
            " [0.292123]\n",
            " [0.30558 ]\n",
            " [0.295438]\n",
            " [0.280406]\n",
            " [0.280188]\n",
            " [0.277384]\n",
            " [0.284769]\n",
            " [0.294314]\n",
            " [0.296518]\n",
            " [0.268946]\n",
            " [0.272799]\n",
            " [0.271821]\n",
            " [0.273509]\n",
            " [0.269089]\n",
            " [0.268827]\n",
            " [0.251943]\n",
            " [0.257278]\n",
            " [0.282188]\n",
            " [0.440244]\n",
            " [0.492314]\n",
            " [0.371509]\n",
            " [0.36927 ]\n",
            " [0.39349 ]\n",
            " [0.446449]\n",
            " [0.450047]\n",
            " [0.439096]\n",
            " [0.417958]\n",
            " [0.447702]\n",
            " [0.471991]\n",
            " [0.503445]\n",
            " [0.524787]\n",
            " [0.608592]\n",
            " [0.628996]\n",
            " [0.594193]\n",
            " [0.548915]\n",
            " [0.520846]\n",
            " [0.535537]\n",
            " [0.532433]\n",
            " [0.567019]\n",
            " [0.517512]\n",
            " [0.54856 ]\n",
            " [0.571741]\n",
            " [0.473563]\n",
            " [0.471832]\n",
            " [0.434524]\n",
            " [0.4279  ]\n",
            " [0.437809]\n",
            " [0.414953]\n",
            " [0.447244]\n",
            " [0.436837]\n",
            " [0.450279]\n",
            " [0.486605]\n",
            " [0.458119]\n",
            " [0.465106]\n",
            " [0.466867]\n",
            " [0.473597]\n",
            " [0.485988]\n",
            " [0.463166]\n",
            " [0.45296 ]\n",
            " [0.441131]\n",
            " [0.459924]\n",
            " [0.442112]\n",
            " [0.437555]\n",
            " [0.4626  ]\n",
            " [0.472417]\n",
            " [0.472919]\n",
            " [0.471171]\n",
            " [0.526991]\n",
            " [0.519835]]\n"
          ],
          "name": "stdout"
        }
      ]
    },
    {
      "cell_type": "code",
      "metadata": {
        "colab": {
          "base_uri": "https://localhost:8080/"
        },
        "id": "I397S92KLndb",
        "outputId": "6ad6df83-bea3-4fe6-b64c-5951537e4ceb"
      },
      "source": [
        "#Create the target data set (y) and convert it to numpy array and get all of the target values except the last 'x' days/rows\n",
        "y = np.array(df['Prediction'][:-future_days])\n",
        "print(y)"
      ],
      "execution_count": null,
      "outputs": [
        {
          "output_type": "stream",
          "text": [
            "[0.198176 0.194064 0.197637 0.20148  0.203129 0.198911 0.200032 0.201255\n",
            " 0.205176 0.204028 0.201707 0.195509 0.200343 0.198856 0.195431 0.197327\n",
            " 0.193975 0.197857 0.200595 0.198348 0.20622  0.202906 0.210249 0.202764\n",
            " 0.203663 0.204982 0.204092 0.203142 0.203449 0.203771 0.202013 0.202938\n",
            " 0.19018  0.193943 0.193106 0.191617 0.193074 0.191307 0.193443 0.190957\n",
            " 0.18679  0.1885   0.18561  0.189272 0.18868  0.184272 0.18357  0.182671\n",
            " 0.176851 0.177692 0.177959 0.17587  0.176976 0.177244 0.176336 0.177984\n",
            " 0.177017 0.188567 0.184787 0.204692 0.20291  0.198652 0.201197 0.200538\n",
            " 0.198575 0.198809 0.197111 0.194048 0.194281 0.199341 0.199135 0.195065\n",
            " 0.198988 0.203342 0.207578 0.204049 0.214102 0.214982 0.223672 0.230277\n",
            " 0.243099 0.244522 0.258904 0.289529 0.287062 0.30994  0.300493 0.303311\n",
            " 0.303584 0.294664 0.294022 0.288653 0.294659 0.284449 0.28493  0.297807\n",
            " 0.300371 0.299661 0.303492 0.314767 0.303307 0.290246 0.292573 0.280682\n",
            " 0.286546 0.285386 0.289215 0.277927 0.277491 0.264511 0.272046 0.274497\n",
            " 0.283034 0.281766 0.295696 0.276461 0.24658  0.255883 0.237692 0.240731\n",
            " 0.242174 0.236753 0.239609 0.24353  0.243292 0.247814 0.241801 0.246327\n",
            " 0.24385  0.247847 0.252194 0.250707 0.251716 0.246743 0.232138 0.233417\n",
            " 0.221657 0.233018 0.241805 0.242369 0.243252 0.242051 0.243139 0.242311\n",
            " 0.238361 0.234202 0.233505 0.248502 0.250896 0.24586  0.249041 0.251615\n",
            " 0.249041 0.25429  0.255719 0.251615 0.249041 0.249448 0.24594  0.240443\n",
            " 0.240931 0.242225 0.245964 0.243573 0.251615 0.256807 0.254879 0.256431\n",
            " 0.253213 0.248688 0.252899 0.245865 0.242295 0.239184 0.239744 0.239797\n",
            " 0.235421 0.23951  0.237793 0.245776 0.258445 0.249582 0.253939 0.250748\n",
            " 0.253911 0.256259 0.254903 0.265191 0.268342 0.269642 0.28552  0.302408\n",
            " 0.294222 0.303766 0.328068 0.458344 0.4437   0.61398  0.692103 0.635483\n",
            " 0.533019 0.559268 0.625622 0.606246 0.664337 0.612923 0.629893 0.631483\n",
            " 0.557262 0.584421 0.619851 0.608934 0.558836 0.58359  0.572954 0.546483\n",
            " 0.506401 0.511464 0.497712 0.46971  0.568628 0.576677 0.58428  0.579163\n",
            " 0.556058 0.516944 0.448448 0.258602 0.337819 0.318091 0.294713 0.283039\n",
            " 0.247958 0.220962 0.211828 0.219846 0.237444 0.221655 0.225848 0.236677\n",
            " 0.22675  0.250895 0.326002 0.32323  0.326916 0.318336 0.288905 0.292123\n",
            " 0.30558  0.295438 0.280406 0.280188 0.277384 0.284769 0.294314 0.296518\n",
            " 0.268946 0.272799 0.271821 0.273509 0.269089 0.268827 0.251943 0.257278\n",
            " 0.282188 0.440244 0.492314 0.371509 0.36927  0.39349  0.446449 0.450047\n",
            " 0.439096 0.417958 0.447702 0.471991 0.503445 0.524787 0.608592 0.628996\n",
            " 0.594193 0.548915 0.520846 0.535537 0.532433 0.567019 0.517512 0.54856\n",
            " 0.571741 0.473563 0.471832 0.434524 0.4279   0.437809 0.414953 0.447244\n",
            " 0.436837 0.450279 0.486605 0.458119 0.465106 0.466867 0.473597 0.485988\n",
            " 0.463166 0.45296  0.441131 0.459924 0.442112 0.437555 0.4626   0.472417\n",
            " 0.472919 0.471171 0.526991 0.519835 0.549942 0.556595 0.488837 0.517498\n",
            " 0.567055 0.550443 0.550756 0.567871 0.566859 0.573869 0.579292 0.616569\n",
            " 0.590915 0.646729 0.920473 1.096266 0.917576 1.052756 1.020837 1.374416\n",
            " 1.36053  1.467735 1.794001 1.839236 1.726063]\n"
          ],
          "name": "stdout"
        }
      ]
    },
    {
      "cell_type": "code",
      "metadata": {
        "id": "iwmA56d4LwOT"
      },
      "source": [
        "#Split the data into 75% training and 25% testing \n",
        "x_train, x_test, y_train,y_test= train_test_split(X,y,test_size = 0.25)"
      ],
      "execution_count": null,
      "outputs": []
    },
    {
      "cell_type": "code",
      "metadata": {
        "id": "Fger9WjMLxla"
      },
      "source": [
        "#Create the models\n",
        "#Create the decision tree regressor model\n",
        "tree = DecisionTreeRegressor().fit(x_train,y_train)\n",
        "#Create the linear regression model\n",
        "lr = LinearRegression().fit(x_train, y_train)"
      ],
      "execution_count": null,
      "outputs": []
    },
    {
      "cell_type": "code",
      "metadata": {
        "colab": {
          "base_uri": "https://localhost:8080/"
        },
        "id": "pkj81zrtL640",
        "outputId": "f79a497c-ed4a-4d1e-fd36-57c9ea7d7b18"
      },
      "source": [
        "#Get the last 'x' rows of the feature dataset\n",
        "x_future = df.drop(['Prediction'], 1)[:-future_days]\n",
        "x_future = x_future.tail(future_days)\n",
        "x_future = np.array(x_future)\n",
        "x_future "
      ],
      "execution_count": null,
      "outputs": [
        {
          "output_type": "execute_result",
          "data": {
            "text/plain": [
              "array([[0.434524],\n",
              "       [0.4279  ],\n",
              "       [0.437809],\n",
              "       [0.414953],\n",
              "       [0.447244],\n",
              "       [0.436837],\n",
              "       [0.450279],\n",
              "       [0.486605],\n",
              "       [0.458119],\n",
              "       [0.465106],\n",
              "       [0.466867],\n",
              "       [0.473597],\n",
              "       [0.485988],\n",
              "       [0.463166],\n",
              "       [0.45296 ],\n",
              "       [0.441131],\n",
              "       [0.459924],\n",
              "       [0.442112],\n",
              "       [0.437555],\n",
              "       [0.4626  ],\n",
              "       [0.472417],\n",
              "       [0.472919],\n",
              "       [0.471171],\n",
              "       [0.526991],\n",
              "       [0.519835]])"
            ]
          },
          "metadata": {
            "tags": []
          },
          "execution_count": 13
        }
      ]
    },
    {
      "cell_type": "code",
      "metadata": {
        "colab": {
          "base_uri": "https://localhost:8080/"
        },
        "id": "dDDQSmPXMrRb",
        "outputId": "a5b78dba-442a-49a8-9f49-c03016363c8d"
      },
      "source": [
        "#Show model tree prediction\n",
        "tree_prediction = tree.predict(x_future)\n",
        "print(tree_prediction)\n",
        "print()\n",
        "#Show the model linear regression prediction\n",
        "lr_prediction = lr.predict(x_future)\n",
        "print(lr_prediction)"
      ],
      "execution_count": null,
      "outputs": [
        {
          "output_type": "stream",
          "text": [
            "[0.5501925 0.556595  1.020837  0.517498  0.567055  0.5501925 0.436837\n",
            " 0.567871  0.568628  0.573869  0.579292  0.616569  0.567871  1.374416\n",
            " 0.436837  1.096266  0.917576  1.052756  1.020837  1.374416  1.36053\n",
            " 1.467735  0.519835  1.839236  1.726063 ]\n",
            "\n",
            "[0.45076057 0.44584195 0.45319982 0.43622824 0.46020573 0.45247807\n",
            " 0.46245935 0.489433   0.46828089 0.47346905 0.47477667 0.47977399\n",
            " 0.48897485 0.47202851 0.46445011 0.45566656 0.46962119 0.45639499\n",
            " 0.45301122 0.47160823 0.47889779 0.47927055 0.47797258 0.51942139\n",
            " 0.51410774]\n"
          ],
          "name": "stdout"
        }
      ]
    },
    {
      "cell_type": "code",
      "metadata": {
        "colab": {
          "base_uri": "https://localhost:8080/",
          "height": 620
        },
        "id": "fxDmSPv8NaAy",
        "outputId": "71824cbb-8e47-40c9-9232-93b8de99fb86"
      },
      "source": [
        "#Visualize the data\n",
        "prediction = tree_prediction\n",
        "\n",
        "valid = df[X.shape[0]:]\n",
        "valid['Prediction'] = prediction\n",
        "plt.figure(figsize=(16,8))\n",
        "plt.title('XRP (Ripple)')\n",
        "plt.xlabel('Days')\n",
        "plt.ylabel('Price USD ($)')\n",
        "plt.plot(df['Close'])\n",
        "plt.plot(valid[['Close', 'Prediction']])\n",
        "plt.legend(['Origin', 'Valid', 'Prediction'])\n",
        "plt.show()"
      ],
      "execution_count": null,
      "outputs": [
        {
          "output_type": "stream",
          "text": [
            "/usr/local/lib/python3.7/dist-packages/ipykernel_launcher.py:5: SettingWithCopyWarning: \n",
            "A value is trying to be set on a copy of a slice from a DataFrame.\n",
            "Try using .loc[row_indexer,col_indexer] = value instead\n",
            "\n",
            "See the caveats in the documentation: https://pandas.pydata.org/pandas-docs/stable/user_guide/indexing.html#returning-a-view-versus-a-copy\n",
            "  \"\"\"\n"
          ],
          "name": "stderr"
        },
        {
          "output_type": "display_data",
          "data": {
            "image/png": "[encoded data removed]",
            "text/plain": [
              "<Figure size 1152x576 with 1 Axes>"
            ]
          },
          "metadata": {
            "tags": [],
            "needs_background": "light"
          }
        }
      ]
    }
  ]
}