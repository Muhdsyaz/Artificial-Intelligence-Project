{
  "nbformat": 4,
  "nbformat_minor": 0,
  "metadata": {
    "colab": {
      "name": "BTC.ipynb",
      "provenance": [],
      "include_colab_link": true
    },
    "kernelspec": {
      "name": "python3",
      "display_name": "Python 3"
    },
    "language_info": {
      "name": "python"
    }
  },
  "cells": [
    {
      "cell_type": "markdown",
      "metadata": {
        "id": "view-in-github",
        "colab_type": "text"
      },
      "source": [
        "<a href=\"https://colab.research.google.com/github/azriawi/Artificial-Intelligence-Project/blob/main/BTC.ipynb\" target=\"_parent\"><img src=\"https://colab.research.google.com/assets/colab-badge.svg\" alt=\"Open In Colab\"/></a>"
      ]
    },
    {
      "cell_type": "code",
      "metadata": {
        "id": "doa7CtOxIRvU"
      },
      "source": [
        "#Install the dependencies\n",
        "import numpy as np\n",
        "import pandas as pd\n",
        "from sklearn.tree import DecisionTreeRegressor\n",
        "from sklearn.linear_model import LinearRegression\n",
        "from sklearn.model_selection import train_test_split\n",
        "import matplotlib.pyplot as plt\n",
        "plt.style.use('bmh')"
      ],
      "execution_count": null,
      "outputs": []
    },
    {
      "cell_type": "code",
      "metadata": {
        "colab": {
          "resources": {
            "http://localhost:8080/nbextensions/google.colab/files.js": {
              "data": "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",
              "ok": true,
              "headers": [
                [
                  "content-type",
                  "application/javascript"
                ]
              ],
              "status": 200,
              "status_text": ""
            }
          },
          "base_uri": "https://localhost:8080/",
          "height": 73
        },
        "id": "sjL1iA2MIhQ7",
        "outputId": "fc04ec87-53ea-499e-dce7-b0307627ff12"
      },
      "source": [
        "#Load the data\n",
        "from google.colab import files\n",
        "uploaded = files.upload()"
      ],
      "execution_count": null,
      "outputs": [
        {
          "output_type": "display_data",
          "data": {
            "text/html": [
              "\n",
              "     <input type=\"file\" id=\"files-65fae0b1-8c36-4033-9ff7-89dd84354199\" name=\"files[]\" multiple disabled\n",
              "        style=\"border:none\" />\n",
              "     <output id=\"result-65fae0b1-8c36-4033-9ff7-89dd84354199\">\n",
              "      Upload widget is only available when the cell has been executed in the\n",
              "      current browser session. Please rerun this cell to enable.\n",
              "      </output>\n",
              "      <script src=\"/nbextensions/google.colab/files.js\"></script> "
            ],
            "text/plain": [
              "<IPython.core.display.HTML object>"
            ]
          },
          "metadata": {
            "tags": []
          }
        },
        {
          "output_type": "stream",
          "text": [
            "Saving BTC-USD.csv to BTC-USD.csv\n"
          ],
          "name": "stdout"
        }
      ]
    },
    {
      "cell_type": "code",
      "metadata": {
        "id": "QmKAWp23KWLy"
      },
      "source": [
        ""
      ],
      "execution_count": null,
      "outputs": []
    },
    {
      "cell_type": "code",
      "metadata": {
        "colab": {
          "base_uri": "https://localhost:8080/",
          "height": 225
        },
        "id": "1friBcd5J7WD",
        "outputId": "2b315f3e-d4b9-48cf-f591-b67309bb5420"
      },
      "source": [
        "#Store the data into a data frame \n",
        "df = pd.read_csv('BTC-USD.csv')\n",
        "df.head(6)"
      ],
      "execution_count": null,
      "outputs": [
        {
          "output_type": "execute_result",
          "data": {
            "text/html": [
              "<div>\n",
              "<style scoped>\n",
              "    .dataframe tbody tr th:only-of-type {\n",
              "        vertical-align: middle;\n",
              "    }\n",
              "\n",
              "    .dataframe tbody tr th {\n",
              "        vertical-align: top;\n",
              "    }\n",
              "\n",
              "    .dataframe thead th {\n",
              "        text-align: right;\n",
              "    }\n",
              "</style>\n",
              "<table border=\"1\" class=\"dataframe\">\n",
              "  <thead>\n",
              "    <tr style=\"text-align: right;\">\n",
              "      <th></th>\n",
              "      <th>Date</th>\n",
              "      <th>Open</th>\n",
              "      <th>High</th>\n",
              "      <th>Low</th>\n",
              "      <th>Close</th>\n",
              "      <th>Adj Close</th>\n",
              "      <th>Volume</th>\n",
              "    </tr>\n",
              "  </thead>\n",
              "  <tbody>\n",
              "    <tr>\n",
              "      <th>0</th>\n",
              "      <td>18/5/2020</td>\n",
              "      <td>9675.695313</td>\n",
              "      <td>9906.030273</td>\n",
              "      <td>9570.359375</td>\n",
              "      <td>9726.575195</td>\n",
              "      <td>9726.575195</td>\n",
              "      <td>4.182714e+10</td>\n",
              "    </tr>\n",
              "    <tr>\n",
              "      <th>1</th>\n",
              "      <td>19/5/2020</td>\n",
              "      <td>9727.063477</td>\n",
              "      <td>9836.047852</td>\n",
              "      <td>9539.624023</td>\n",
              "      <td>9729.038086</td>\n",
              "      <td>9729.038086</td>\n",
              "      <td>3.925429e+10</td>\n",
              "    </tr>\n",
              "    <tr>\n",
              "      <th>2</th>\n",
              "      <td>20/5/2020</td>\n",
              "      <td>9725.329102</td>\n",
              "      <td>9804.793945</td>\n",
              "      <td>9447.201172</td>\n",
              "      <td>9522.981445</td>\n",
              "      <td>9522.981445</td>\n",
              "      <td>3.654624e+10</td>\n",
              "    </tr>\n",
              "    <tr>\n",
              "      <th>3</th>\n",
              "      <td>21/5/2020</td>\n",
              "      <td>9522.740234</td>\n",
              "      <td>9555.242188</td>\n",
              "      <td>8869.930664</td>\n",
              "      <td>9081.761719</td>\n",
              "      <td>9081.761719</td>\n",
              "      <td>3.932616e+10</td>\n",
              "    </tr>\n",
              "    <tr>\n",
              "      <th>4</th>\n",
              "      <td>22/5/2020</td>\n",
              "      <td>9080.334961</td>\n",
              "      <td>9232.936523</td>\n",
              "      <td>9008.638672</td>\n",
              "      <td>9182.577148</td>\n",
              "      <td>9182.577148</td>\n",
              "      <td>2.981077e+10</td>\n",
              "    </tr>\n",
              "    <tr>\n",
              "      <th>5</th>\n",
              "      <td>23/5/2020</td>\n",
              "      <td>9185.062500</td>\n",
              "      <td>9302.501953</td>\n",
              "      <td>9118.108398</td>\n",
              "      <td>9209.287109</td>\n",
              "      <td>9209.287109</td>\n",
              "      <td>2.772787e+10</td>\n",
              "    </tr>\n",
              "  </tbody>\n",
              "</table>\n",
              "</div>"
            ],
            "text/plain": [
              "        Date         Open         High  ...        Close    Adj Close        Volume\n",
              "0  18/5/2020  9675.695313  9906.030273  ...  9726.575195  9726.575195  4.182714e+10\n",
              "1  19/5/2020  9727.063477  9836.047852  ...  9729.038086  9729.038086  3.925429e+10\n",
              "2  20/5/2020  9725.329102  9804.793945  ...  9522.981445  9522.981445  3.654624e+10\n",
              "3  21/5/2020  9522.740234  9555.242188  ...  9081.761719  9081.761719  3.932616e+10\n",
              "4  22/5/2020  9080.334961  9232.936523  ...  9182.577148  9182.577148  2.981077e+10\n",
              "5  23/5/2020  9185.062500  9302.501953  ...  9209.287109  9209.287109  2.772787e+10\n",
              "\n",
              "[6 rows x 7 columns]"
            ]
          },
          "metadata": {
            "tags": []
          },
          "execution_count": 3
        }
      ]
    },
    {
      "cell_type": "code",
      "metadata": {
        "colab": {
          "base_uri": "https://localhost:8080/"
        },
        "id": "eUOzKDaKKPnj",
        "outputId": "c67e0888-32ed-488a-ba26-bb08f9ec1a7c"
      },
      "source": [
        "#Get the number of trading days\n",
        "df.shape"
      ],
      "execution_count": null,
      "outputs": [
        {
          "output_type": "execute_result",
          "data": {
            "text/plain": [
              "(366, 7)"
            ]
          },
          "metadata": {
            "tags": []
          },
          "execution_count": 4
        }
      ]
    },
    {
      "cell_type": "code",
      "metadata": {
        "colab": {
          "base_uri": "https://localhost:8080/",
          "height": 513
        },
        "id": "rDkLz6LbKXRS",
        "outputId": "1e7e5c52-0bac-46b9-dd25-598a6a0dbafb"
      },
      "source": [
        "#Visualize the close price data\n",
        "plt.figure(figsize=(16,8))\n",
        "plt.title('BTC (Bitcoin)')\n",
        "plt.xlabel('Days')\n",
        "plt.ylabel('Price USD($)')\n",
        "plt.plot(df['Close'])\n",
        "plt.show()"
      ],
      "execution_count": null,
      "outputs": [
        {
          "output_type": "display_data",
          "data": {
            "image/png": "[encoded data removed]",
            "text/plain": [
              "<Figure size 1152x576 with 1 Axes>"
            ]
          },
          "metadata": {
            "tags": [],
            "needs_background": "light"
          }
        }
      ]
    },
    {
      "cell_type": "code",
      "metadata": {
        "colab": {
          "base_uri": "https://localhost:8080/",
          "height": 166
        },
        "id": "BkfMz92kK8jz",
        "outputId": "ed3192f4-a28f-4a70-98b6-6d86c7fa80df"
      },
      "source": [
        "#Get the close price\n",
        "df = df[['Close']]\n",
        "df.head(4)"
      ],
      "execution_count": null,
      "outputs": [
        {
          "output_type": "execute_result",
          "data": {
            "text/html": [
              "<div>\n",
              "<style scoped>\n",
              "    .dataframe tbody tr th:only-of-type {\n",
              "        vertical-align: middle;\n",
              "    }\n",
              "\n",
              "    .dataframe tbody tr th {\n",
              "        vertical-align: top;\n",
              "    }\n",
              "\n",
              "    .dataframe thead th {\n",
              "        text-align: right;\n",
              "    }\n",
              "</style>\n",
              "<table border=\"1\" class=\"dataframe\">\n",
              "  <thead>\n",
              "    <tr style=\"text-align: right;\">\n",
              "      <th></th>\n",
              "      <th>Close</th>\n",
              "    </tr>\n",
              "  </thead>\n",
              "  <tbody>\n",
              "    <tr>\n",
              "      <th>0</th>\n",
              "      <td>9726.575195</td>\n",
              "    </tr>\n",
              "    <tr>\n",
              "      <th>1</th>\n",
              "      <td>9729.038086</td>\n",
              "    </tr>\n",
              "    <tr>\n",
              "      <th>2</th>\n",
              "      <td>9522.981445</td>\n",
              "    </tr>\n",
              "    <tr>\n",
              "      <th>3</th>\n",
              "      <td>9081.761719</td>\n",
              "    </tr>\n",
              "  </tbody>\n",
              "</table>\n",
              "</div>"
            ],
            "text/plain": [
              "         Close\n",
              "0  9726.575195\n",
              "1  9729.038086\n",
              "2  9522.981445\n",
              "3  9081.761719"
            ]
          },
          "metadata": {
            "tags": []
          },
          "execution_count": 6
        }
      ]
    },
    {
      "cell_type": "code",
      "metadata": {
        "colab": {
          "base_uri": "https://localhost:8080/",
          "height": 166
        },
        "id": "DT2zOvvQLH27",
        "outputId": "ae610d51-419f-4524-c3f7-7a442cd3bdf5"
      },
      "source": [
        "#Create a variable to predict 'x' days out into the future\n",
        "future_days = 25\n",
        "#Create a new column (target) shifted 'x' units/days up\n",
        "df['Prediction'] = df[['Close']].shift(-future_days)\n",
        "df.tail(4)"
      ],
      "execution_count": null,
      "outputs": [
        {
          "output_type": "execute_result",
          "data": {
            "text/html": [
              "<div>\n",
              "<style scoped>\n",
              "    .dataframe tbody tr th:only-of-type {\n",
              "        vertical-align: middle;\n",
              "    }\n",
              "\n",
              "    .dataframe tbody tr th {\n",
              "        vertical-align: top;\n",
              "    }\n",
              "\n",
              "    .dataframe thead th {\n",
              "        text-align: right;\n",
              "    }\n",
              "</style>\n",
              "<table border=\"1\" class=\"dataframe\">\n",
              "  <thead>\n",
              "    <tr style=\"text-align: right;\">\n",
              "      <th></th>\n",
              "      <th>Close</th>\n",
              "      <th>Prediction</th>\n",
              "    </tr>\n",
              "  </thead>\n",
              "  <tbody>\n",
              "    <tr>\n",
              "      <th>362</th>\n",
              "      <td>46760.18750</td>\n",
              "      <td>NaN</td>\n",
              "    </tr>\n",
              "    <tr>\n",
              "      <th>363</th>\n",
              "      <td>46456.05859</td>\n",
              "      <td>NaN</td>\n",
              "    </tr>\n",
              "    <tr>\n",
              "      <th>364</th>\n",
              "      <td>43537.51172</td>\n",
              "      <td>NaN</td>\n",
              "    </tr>\n",
              "    <tr>\n",
              "      <th>365</th>\n",
              "      <td>43035.87500</td>\n",
              "      <td>NaN</td>\n",
              "    </tr>\n",
              "  </tbody>\n",
              "</table>\n",
              "</div>"
            ],
            "text/plain": [
              "           Close  Prediction\n",
              "362  46760.18750         NaN\n",
              "363  46456.05859         NaN\n",
              "364  43537.51172         NaN\n",
              "365  43035.87500         NaN"
            ]
          },
          "metadata": {
            "tags": []
          },
          "execution_count": 7
        }
      ]
    },
    {
      "cell_type": "code",
      "metadata": {
        "colab": {
          "base_uri": "https://localhost:8080/"
        },
        "id": "UmPTs7SnLfg7",
        "outputId": "24c00ce6-aecc-4cb8-dc0a-f18fc17cdb88"
      },
      "source": [
        "#Create the feature data set (X) and convert it to numpy array and remove the last 'x' rows/days\n",
        "X = np.array(df.drop(['Prediction'], 1))[:-future_days]\n",
        "print(X)"
      ],
      "execution_count": null,
      "outputs": [
        {
          "output_type": "stream",
          "text": [
            "[[ 9726.575195]\n",
            " [ 9729.038086]\n",
            " [ 9522.981445]\n",
            " [ 9081.761719]\n",
            " [ 9182.577148]\n",
            " [ 9209.287109]\n",
            " [ 8790.368164]\n",
            " [ 8906.93457 ]\n",
            " [ 8835.052734]\n",
            " [ 9181.017578]\n",
            " [ 9525.750977]\n",
            " [ 9439.124023]\n",
            " [ 9700.414063]\n",
            " [ 9461.058594]\n",
            " [10167.26856 ]\n",
            " [ 9529.803711]\n",
            " [ 9656.717773]\n",
            " [ 9800.636719]\n",
            " [ 9665.533203]\n",
            " [ 9653.679688]\n",
            " [ 9758.852539]\n",
            " [ 9771.489258]\n",
            " [ 9795.700195]\n",
            " [ 9870.094727]\n",
            " [ 9321.78125 ]\n",
            " [ 9480.84375 ]\n",
            " [ 9475.277344]\n",
            " [ 9386.788086]\n",
            " [ 9450.702148]\n",
            " [ 9538.024414]\n",
            " [ 9480.254883]\n",
            " [ 9411.84082 ]\n",
            " [ 9288.018555]\n",
            " [ 9332.34082 ]\n",
            " [ 9303.629883]\n",
            " [ 9648.717773]\n",
            " [ 9629.658203]\n",
            " [ 9313.610352]\n",
            " [ 9264.813477]\n",
            " [ 9162.917969]\n",
            " [ 9045.390625]\n",
            " [ 9143.582031]\n",
            " [ 9190.854492]\n",
            " [ 9137.993164]\n",
            " [ 9228.325195]\n",
            " [ 9123.410156]\n",
            " [ 9087.303711]\n",
            " [ 9132.488281]\n",
            " [ 9073.942383]\n",
            " [ 9375.474609]\n",
            " [ 9252.277344]\n",
            " [ 9428.333008]\n",
            " [ 9277.967773]\n",
            " [ 9278.807617]\n",
            " [ 9240.34668 ]\n",
            " [ 9276.5     ]\n",
            " [ 9243.614258]\n",
            " [ 9243.213867]\n",
            " [ 9192.836914]\n",
            " [ 9132.227539]\n",
            " [ 9151.392578]\n",
            " [ 9159.040039]\n",
            " [ 9185.817383]\n",
            " [ 9164.231445]\n",
            " [ 9374.887695]\n",
            " [ 9525.363281]\n",
            " [ 9581.072266]\n",
            " [ 9536.892578]\n",
            " [ 9677.113281]\n",
            " [ 9905.166992]\n",
            " [10990.87305 ]\n",
            " [10912.82324 ]\n",
            " [11100.46777 ]\n",
            " [11111.21387 ]\n",
            " [11323.4668  ]\n",
            " [11759.59277 ]\n",
            " [11053.61426 ]\n",
            " [11246.34863 ]\n",
            " [11205.89258 ]\n",
            " [11747.02246 ]\n",
            " [11779.77344 ]\n",
            " [11601.47266 ]\n",
            " [11754.0459  ]\n",
            " [11675.73926 ]\n",
            " [11878.11133 ]\n",
            " [11410.52539 ]\n",
            " [11584.93457 ]\n",
            " [11784.1377  ]\n",
            " [11768.87109 ]\n",
            " [11865.69824 ]\n",
            " [11892.80371 ]\n",
            " [12254.40234 ]\n",
            " [11991.2334  ]\n",
            " [11758.2832  ]\n",
            " [11878.37207 ]\n",
            " [11592.48926 ]\n",
            " [11681.8252  ]\n",
            " [11664.84766 ]\n",
            " [11774.5957  ]\n",
            " [11366.13477 ]\n",
            " [11488.36328 ]\n",
            " [11323.39746 ]\n",
            " [11542.5     ]\n",
            " [11506.86523 ]\n",
            " [11711.50586 ]\n",
            " [11680.82031 ]\n",
            " [11970.47852 ]\n",
            " [11414.03418 ]\n",
            " [10245.29688 ]\n",
            " [10511.81348 ]\n",
            " [10169.56738 ]\n",
            " [10280.35156 ]\n",
            " [10369.56348 ]\n",
            " [10131.5166  ]\n",
            " [10242.34766 ]\n",
            " [10363.13867 ]\n",
            " [10400.91504 ]\n",
            " [10442.1709  ]\n",
            " [10323.75586 ]\n",
            " [10680.83789 ]\n",
            " [10796.95117 ]\n",
            " [10974.90527 ]\n",
            " [10948.99023 ]\n",
            " [10944.58594 ]\n",
            " [11094.34668 ]\n",
            " [10938.27148 ]\n",
            " [10462.25977 ]\n",
            " [10538.45996 ]\n",
            " [10225.86426 ]\n",
            " [10745.54883 ]\n",
            " [10702.29004 ]\n",
            " [10754.4375  ]\n",
            " [10774.42676 ]\n",
            " [10721.32715 ]\n",
            " [10848.83008 ]\n",
            " [10787.61816 ]\n",
            " [10623.33008 ]\n",
            " [10585.16406 ]\n",
            " [10565.49316 ]\n",
            " [10684.42871 ]\n",
            " [10804.00098 ]\n",
            " [10621.66406 ]\n",
            " [10679.13672 ]\n",
            " [10923.62793 ]\n",
            " [10930.62793 ]\n",
            " [11296.36133 ]\n",
            " [11384.18164 ]\n",
            " [11399.08203 ]\n",
            " [11380.08203 ]\n",
            " [11429.50684 ]\n",
            " [11495.34961 ]\n",
            " [11322.12305 ]\n",
            " [11358.10156 ]\n",
            " [11483.35938 ]\n",
            " [11742.03711 ]\n",
            " [11916.33496 ]\n",
            " [12823.68945 ]\n",
            " [12965.8916  ]\n",
            " [12931.53906 ]\n",
            " [13108.0625  ]\n",
            " [13031.17383 ]\n",
            " [13075.24805 ]\n",
            " [13654.21875 ]\n",
            " [13271.28516 ]\n",
            " [13437.88281 ]\n",
            " [13546.52246 ]\n",
            " [13780.99512 ]\n",
            " [13737.10938 ]\n",
            " [13550.48926 ]\n",
            " [13950.30078 ]\n",
            " [14133.70703 ]\n",
            " [15579.84863 ]\n",
            " [15565.88086 ]\n",
            " [14833.75391 ]\n",
            " [15479.56738 ]\n",
            " [15332.31543 ]\n",
            " [15290.90234 ]\n",
            " [15701.33984 ]\n",
            " [16276.34375 ]\n",
            " [16317.80859 ]\n",
            " [16068.13867 ]\n",
            " [15955.58789 ]\n",
            " [16716.11133 ]\n",
            " [17645.40625 ]\n",
            " [17804.00586 ]\n",
            " [17817.08984 ]\n",
            " [18621.31445 ]\n",
            " [18642.23242 ]\n",
            " [18370.00195 ]\n",
            " [18364.12109 ]\n",
            " [19107.46484 ]\n",
            " [18732.12109 ]\n",
            " [17150.62305 ]\n",
            " [17108.40234 ]\n",
            " [17717.41406 ]\n",
            " [18177.48438 ]\n",
            " [19625.83594 ]\n",
            " [18802.99805 ]\n",
            " [19201.0918  ]\n",
            " [19445.39844 ]\n",
            " [18699.76563 ]\n",
            " [19154.23047 ]\n",
            " [19345.12109 ]\n",
            " [19191.63086 ]\n",
            " [18321.14453 ]\n",
            " [18553.91602 ]\n",
            " [18264.99219 ]\n",
            " [18058.9043  ]\n",
            " [18803.65625 ]\n",
            " [19142.38281 ]\n",
            " [19246.64453 ]\n",
            " [19417.07617 ]\n",
            " [21310.59766 ]\n",
            " [22805.16211 ]\n",
            " [23137.96094 ]\n",
            " [23869.83203 ]\n",
            " [23477.29492 ]\n",
            " [22803.08203 ]\n",
            " [23783.0293  ]\n",
            " [23241.3457  ]\n",
            " [23735.94922 ]\n",
            " [24664.79102 ]\n",
            " [26437.03711 ]\n",
            " [26272.29492 ]\n",
            " [27084.80859 ]\n",
            " [27362.4375  ]\n",
            " [28840.95313 ]\n",
            " [29001.7207  ]\n",
            " [29374.15234 ]\n",
            " [32127.26758 ]\n",
            " [32782.02344 ]\n",
            " [31971.91406 ]\n",
            " [33992.42969 ]\n",
            " [36824.36328 ]\n",
            " [39371.04297 ]\n",
            " [40797.60938 ]\n",
            " [40254.54688 ]\n",
            " [38356.44141 ]\n",
            " [35566.65625 ]\n",
            " [33922.96094 ]\n",
            " [37316.35938 ]\n",
            " [39187.32813 ]\n",
            " [36825.36719 ]\n",
            " [36178.14063 ]\n",
            " [35791.27734 ]\n",
            " [36630.07422 ]\n",
            " [36069.80469 ]\n",
            " [35547.75    ]\n",
            " [30825.69922 ]\n",
            " [33005.76172 ]\n",
            " [32067.64258 ]\n",
            " [32289.37891 ]\n",
            " [32366.39258 ]\n",
            " [32569.84961 ]\n",
            " [30432.54688 ]\n",
            " [31649.60547 ]\n",
            " [34316.38672 ]\n",
            " [34269.52344 ]\n",
            " [33114.35938 ]\n",
            " [33537.17578 ]\n",
            " [35510.28906 ]\n",
            " [37472.08984 ]\n",
            " [36926.06641 ]\n",
            " [38144.30859 ]\n",
            " [39266.01172 ]\n",
            " [38903.44141 ]\n",
            " [46196.46484 ]\n",
            " [46481.10547 ]\n",
            " [44918.18359 ]\n",
            " [47909.33203 ]\n",
            " [47504.85156 ]\n",
            " [47105.51563 ]\n",
            " [48717.28906 ]\n",
            " [47945.05859 ]\n",
            " [49199.87109 ]\n",
            " [52149.00781 ]\n",
            " [51679.79688 ]\n",
            " [55888.13281 ]\n",
            " [56099.51953 ]\n",
            " [57539.94531 ]\n",
            " [54207.32031 ]\n",
            " [48824.42578 ]\n",
            " [49705.33203 ]\n",
            " [47093.85156 ]\n",
            " [46339.76172 ]\n",
            " [46188.45313 ]\n",
            " [45137.76953 ]\n",
            " [49631.24219 ]\n",
            " [48378.98828 ]\n",
            " [50538.24219 ]\n",
            " [48561.16797 ]\n",
            " [48927.30469 ]\n",
            " [48912.38281 ]\n",
            " [51206.69141 ]\n",
            " [52246.52344 ]\n",
            " [54824.11719 ]\n",
            " [56008.55078 ]\n",
            " [57805.12109 ]\n",
            " [57332.08984 ]\n",
            " [61243.08594 ]\n",
            " [59302.31641 ]\n",
            " [55907.19922 ]\n",
            " [56804.90234 ]\n",
            " [58870.89453 ]\n",
            " [57858.92188 ]\n",
            " [58346.65234 ]\n",
            " [58313.64453 ]\n",
            " [57523.42188 ]\n",
            " [54529.14453 ]\n",
            " [54738.94531 ]\n",
            " [52774.26563 ]\n",
            " [51704.16016 ]\n",
            " [55137.3125  ]\n",
            " [55973.51172 ]\n",
            " [55950.74609 ]\n",
            " [57750.19922 ]\n",
            " [58917.69141 ]\n",
            " [58918.83203 ]\n",
            " [59095.80859 ]\n",
            " [59384.3125  ]\n",
            " [57603.89063 ]\n",
            " [58758.55469 ]\n",
            " [59057.87891 ]\n",
            " [58192.35938 ]\n",
            " [56048.9375  ]\n",
            " [58323.95313 ]\n",
            " [58245.00391 ]\n",
            " [59793.23438 ]\n",
            " [60204.96484 ]\n",
            " [59893.45313 ]\n",
            " [63503.45703 ]\n",
            " [63109.69531 ]\n",
            " [63314.01172 ]\n",
            " [61572.78906 ]\n",
            " [60683.82031 ]\n",
            " [56216.18359 ]\n",
            " [55724.26563 ]\n",
            " [56473.03125 ]\n",
            " [53906.08984 ]\n",
            " [51762.27344 ]\n",
            " [51093.65234 ]]\n"
          ],
          "name": "stdout"
        }
      ]
    },
    {
      "cell_type": "code",
      "metadata": {
        "colab": {
          "base_uri": "https://localhost:8080/"
        },
        "id": "I397S92KLndb",
        "outputId": "f3ec8cc3-9276-41e2-f98a-6f539b94dcee"
      },
      "source": [
        "#Create the target data set (y) and convert it to numpy array and get all of the target values except the last 'x' days/rows\n",
        "y = np.array(df['Prediction'][:-future_days])\n",
        "print(y)"
      ],
      "execution_count": null,
      "outputs": [
        {
          "output_type": "stream",
          "text": [
            "[ 9480.84375   9475.277344  9386.788086  9450.702148  9538.024414\n",
            "  9480.254883  9411.84082   9288.018555  9332.34082   9303.629883\n",
            "  9648.717773  9629.658203  9313.610352  9264.813477  9162.917969\n",
            "  9045.390625  9143.582031  9190.854492  9137.993164  9228.325195\n",
            "  9123.410156  9087.303711  9132.488281  9073.942383  9375.474609\n",
            "  9252.277344  9428.333008  9277.967773  9278.807617  9240.34668\n",
            "  9276.5       9243.614258  9243.213867  9192.836914  9132.227539\n",
            "  9151.392578  9159.040039  9185.817383  9164.231445  9374.887695\n",
            "  9525.363281  9581.072266  9536.892578  9677.113281  9905.166992\n",
            " 10990.87305  10912.82324  11100.46777  11111.21387  11323.4668\n",
            " 11759.59277  11053.61426  11246.34863  11205.89258  11747.02246\n",
            " 11779.77344  11601.47266  11754.0459   11675.73926  11878.11133\n",
            " 11410.52539  11584.93457  11784.1377   11768.87109  11865.69824\n",
            " 11892.80371  12254.40234  11991.2334   11758.2832   11878.37207\n",
            " 11592.48926  11681.8252   11664.84766  11774.5957   11366.13477\n",
            " 11488.36328  11323.39746  11542.5      11506.86523  11711.50586\n",
            " 11680.82031  11970.47852  11414.03418  10245.29688  10511.81348\n",
            " 10169.56738  10280.35156  10369.56348  10131.5166   10242.34766\n",
            " 10363.13867  10400.91504  10442.1709   10323.75586  10680.83789\n",
            " 10796.95117  10974.90527  10948.99023  10944.58594  11094.34668\n",
            " 10938.27148  10462.25977  10538.45996  10225.86426  10745.54883\n",
            " 10702.29004  10754.4375   10774.42676  10721.32715  10848.83008\n",
            " 10787.61816  10623.33008  10585.16406  10565.49316  10684.42871\n",
            " 10804.00098  10621.66406  10679.13672  10923.62793  10930.62793\n",
            " 11296.36133  11384.18164  11399.08203  11380.08203  11429.50684\n",
            " 11495.34961  11322.12305  11358.10156  11483.35938  11742.03711\n",
            " 11916.33496  12823.68945  12965.8916   12931.53906  13108.0625\n",
            " 13031.17383  13075.24805  13654.21875  13271.28516  13437.88281\n",
            " 13546.52246  13780.99512  13737.10938  13550.48926  13950.30078\n",
            " 14133.70703  15579.84863  15565.88086  14833.75391  15479.56738\n",
            " 15332.31543  15290.90234  15701.33984  16276.34375  16317.80859\n",
            " 16068.13867  15955.58789  16716.11133  17645.40625  17804.00586\n",
            " 17817.08984  18621.31445  18642.23242  18370.00195  18364.12109\n",
            " 19107.46484  18732.12109  17150.62305  17108.40234  17717.41406\n",
            " 18177.48438  19625.83594  18802.99805  19201.0918   19445.39844\n",
            " 18699.76563  19154.23047  19345.12109  19191.63086  18321.14453\n",
            " 18553.91602  18264.99219  18058.9043   18803.65625  19142.38281\n",
            " 19246.64453  19417.07617  21310.59766  22805.16211  23137.96094\n",
            " 23869.83203  23477.29492  22803.08203  23783.0293   23241.3457\n",
            " 23735.94922  24664.79102  26437.03711  26272.29492  27084.80859\n",
            " 27362.4375   28840.95313  29001.7207   29374.15234  32127.26758\n",
            " 32782.02344  31971.91406  33992.42969  36824.36328  39371.04297\n",
            " 40797.60938  40254.54688  38356.44141  35566.65625  33922.96094\n",
            " 37316.35938  39187.32813  36825.36719  36178.14063  35791.27734\n",
            " 36630.07422  36069.80469  35547.75     30825.69922  33005.76172\n",
            " 32067.64258  32289.37891  32366.39258  32569.84961  30432.54688\n",
            " 31649.60547  34316.38672  34269.52344  33114.35938  33537.17578\n",
            " 35510.28906  37472.08984  36926.06641  38144.30859  39266.01172\n",
            " 38903.44141  46196.46484  46481.10547  44918.18359  47909.33203\n",
            " 47504.85156  47105.51563  48717.28906  47945.05859  49199.87109\n",
            " 52149.00781  51679.79688  55888.13281  56099.51953  57539.94531\n",
            " 54207.32031  48824.42578  49705.33203  47093.85156  46339.76172\n",
            " 46188.45313  45137.76953  49631.24219  48378.98828  50538.24219\n",
            " 48561.16797  48927.30469  48912.38281  51206.69141  52246.52344\n",
            " 54824.11719  56008.55078  57805.12109  57332.08984  61243.08594\n",
            " 59302.31641  55907.19922  56804.90234  58870.89453  57858.92188\n",
            " 58346.65234  58313.64453  57523.42188  54529.14453  54738.94531\n",
            " 52774.26563  51704.16016  55137.3125   55973.51172  55950.74609\n",
            " 57750.19922  58917.69141  58918.83203  59095.80859  59384.3125\n",
            " 57603.89063  58758.55469  59057.87891  58192.35938  56048.9375\n",
            " 58323.95313  58245.00391  59793.23438  60204.96484  59893.45313\n",
            " 63503.45703  63109.69531  63314.01172  61572.78906  60683.82031\n",
            " 56216.18359  55724.26563  56473.03125  53906.08984  51762.27344\n",
            " 51093.65234  50050.86719  49004.25391  54021.75391  55033.11719\n",
            " 54824.70313  53555.10938  57750.17578  57828.05078  56631.07813\n",
            " 57200.29297  53333.53906  57424.00781  56396.51563  57356.40234\n",
            " 58803.77734  58232.31641  55859.79688  56704.57422  49150.53516\n",
            " 49716.19141  49880.53516  46760.1875   46456.05859  43537.51172\n",
            " 43035.875   ]\n"
          ],
          "name": "stdout"
        }
      ]
    },
    {
      "cell_type": "code",
      "metadata": {
        "id": "iwmA56d4LwOT"
      },
      "source": [
        "#Split the data into 75% training and 25% testing \n",
        "x_train, x_test, y_train,y_test= train_test_split(X,y,test_size = 0.25)"
      ],
      "execution_count": null,
      "outputs": []
    },
    {
      "cell_type": "code",
      "metadata": {
        "id": "Fger9WjMLxla"
      },
      "source": [
        "#Create the models\n",
        "#Create the decision tree regressor model\n",
        "tree = DecisionTreeRegressor().fit(x_train,y_train)\n",
        "#Create the linear regression model\n",
        "lr = LinearRegression().fit(x_train, y_train)"
      ],
      "execution_count": null,
      "outputs": []
    },
    {
      "cell_type": "code",
      "metadata": {
        "colab": {
          "base_uri": "https://localhost:8080/"
        },
        "id": "pkj81zrtL640",
        "outputId": "206ca398-3a02-4b84-84e9-6fef450c5045"
      },
      "source": [
        "#Get the last 'x' rows of the feature dataset\n",
        "x_future = df.drop(['Prediction'], 1)[:-future_days]\n",
        "x_future = x_future.tail(future_days)\n",
        "x_future = np.array(x_future)\n",
        "x_future "
      ],
      "execution_count": null,
      "outputs": [
        {
          "output_type": "execute_result",
          "data": {
            "text/plain": [
              "array([[58917.69141],\n",
              "       [58918.83203],\n",
              "       [59095.80859],\n",
              "       [59384.3125 ],\n",
              "       [57603.89063],\n",
              "       [58758.55469],\n",
              "       [59057.87891],\n",
              "       [58192.35938],\n",
              "       [56048.9375 ],\n",
              "       [58323.95313],\n",
              "       [58245.00391],\n",
              "       [59793.23438],\n",
              "       [60204.96484],\n",
              "       [59893.45313],\n",
              "       [63503.45703],\n",
              "       [63109.69531],\n",
              "       [63314.01172],\n",
              "       [61572.78906],\n",
              "       [60683.82031],\n",
              "       [56216.18359],\n",
              "       [55724.26563],\n",
              "       [56473.03125],\n",
              "       [53906.08984],\n",
              "       [51762.27344],\n",
              "       [51093.65234]])"
            ]
          },
          "metadata": {
            "tags": []
          },
          "execution_count": 12
        }
      ]
    },
    {
      "cell_type": "code",
      "metadata": {
        "colab": {
          "base_uri": "https://localhost:8080/"
        },
        "id": "dDDQSmPXMrRb",
        "outputId": "f1a6e9cf-cfe5-4f13-e6d7-d4a56817e4ac"
      },
      "source": [
        "#Show model tree prediction\n",
        "tree_prediction = tree.predict(x_future)\n",
        "print(tree_prediction)\n",
        "print()\n",
        "#Show the model linear regression prediction\n",
        "lr_prediction = lr.predict(x_future)\n",
        "print(lr_prediction)"
      ],
      "execution_count": null,
      "outputs": [
        {
          "output_type": "stream",
          "text": [
            "[49004.25391 49004.25391 54021.75391 55033.11719 54824.70313 49004.25391\n",
            " 57750.17578 57828.05078 58758.55469 57200.29297 53333.53906 57424.00781\n",
            " 57356.40234 57356.40234 55859.79688 58232.31641 55859.79688 56704.57422\n",
            " 49150.53516 49716.19141 49880.53516 46760.1875  46456.05859 43537.51172\n",
            " 43035.875  ]\n",
            "\n",
            "[61537.50940327 61538.63739354 61713.6543482  61998.96374588\n",
            " 60238.25592275 61380.13475371 61676.14465153 60820.20874486\n",
            " 58700.52029574 60950.34539899 60872.27035867 62403.35776356\n",
            " 62810.52926272 62502.46682311 66072.49829452 65683.0965732\n",
            " 65885.15065237 64163.20799881 63284.08251792 58865.91452282\n",
            " 58379.44341442 59119.91819011 56581.39970847 54461.32110775\n",
            " 53800.1034372 ]\n"
          ],
          "name": "stdout"
        }
      ]
    },
    {
      "cell_type": "code",
      "metadata": {
        "colab": {
          "base_uri": "https://localhost:8080/",
          "height": 614
        },
        "id": "fxDmSPv8NaAy",
        "outputId": "8cca6f78-ec79-4a85-f218-f0bfea978bea"
      },
      "source": [
        "#Visualize the data\n",
        "prediction = tree_prediction\n",
        "\n",
        "valid = df[X.shape[0]:]\n",
        "valid['Prediction'] = prediction\n",
        "plt.figure(figsize=(16,8))\n",
        "plt.title('BTC (Bitcoin)')\n",
        "plt.xlabel('Days')\n",
        "plt.ylabel('Price USD ($)')\n",
        "plt.plot(df['Close'])\n",
        "plt.plot(valid[['Close', 'Prediction']])\n",
        "plt.legend(['Origin', 'Valid', 'Prediction'])\n",
        "plt.show()"
      ],
      "execution_count": null,
      "outputs": [
        {
          "output_type": "stream",
          "text": [
            "/usr/local/lib/python3.7/dist-packages/ipykernel_launcher.py:5: SettingWithCopyWarning: \n",
            "A value is trying to be set on a copy of a slice from a DataFrame.\n",
            "Try using .loc[row_indexer,col_indexer] = value instead\n",
            "\n",
            "See the caveats in the documentation: https://pandas.pydata.org/pandas-docs/stable/user_guide/indexing.html#returning-a-view-versus-a-copy\n",
            "  \"\"\"\n"
          ],
          "name": "stderr"
        },
        {
          "output_type": "display_data",
          "data": {
            "image/png": "[encoded data removed]",
            "text/plain": [
              "<Figure size 1152x576 with 1 Axes>"
            ]
          },
          "metadata": {
            "tags": [],
            "needs_background": "light"
          }
        }
      ]
    }
  ]
}